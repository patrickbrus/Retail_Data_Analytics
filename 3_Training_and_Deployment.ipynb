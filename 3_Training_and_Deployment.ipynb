{
 "cells": [
  {
   "cell_type": "markdown",
   "metadata": {},
   "source": [
    "# Retail Data Analytics\n",
    "<br>\n",
    "This notebook contains the code for training and deploying a retail data analytics model. The goal is to estimate the weekly sales of a store given the input features.\n",
    "<br>\n",
    "The data is stored in csv files. There is one csv file containing the training data (train.csv) and one containing the test data (test.csv). Additionally, one can find all feature names in a csv file calls \"features_list.csv\". "
   ]
  },
  {
   "cell_type": "code",
   "execution_count": 40,
   "metadata": {},
   "outputs": [],
   "source": [
    "import pandas as pd\n",
    "import boto3\n",
    "import sagemaker\n",
    "\n",
    "import matplotlib.pyplot as plt\n",
    "%matplotlib inline\n",
    "plt.rcParams['figure.figsize'] = (10.0, 8.0) # set default size of plots\n",
    "plt.rcParams['image.interpolation'] = 'nearest'\n",
    "plt.rcParams['image.cmap'] = 'gray'\n",
    "colors = plt.rcParams['axes.prop_cycle'].by_key()['color']"
   ]
  },
  {
   "cell_type": "code",
   "execution_count": 41,
   "metadata": {},
   "outputs": [],
   "source": [
    "# set number of samples that shall be used for visualising test true data and predicted data\n",
    "NUM_SAMPLES_TEST_VISUALIZATION = 100"
   ]
  },
  {
   "cell_type": "markdown",
   "metadata": {},
   "source": [
    "## Load Data to S3"
   ]
  },
  {
   "cell_type": "code",
   "execution_count": 42,
   "metadata": {},
   "outputs": [],
   "source": [
    "# session and role\n",
    "sagemaker_session = sagemaker.Session()\n",
    "role = sagemaker.get_execution_role()\n",
    "\n",
    "region = boto3.Session().region_name\n",
    "\n",
    "# create an S3 bucket\n",
    "bucket = sagemaker_session.default_bucket()"
   ]
  },
  {
   "cell_type": "code",
   "execution_count": 43,
   "metadata": {},
   "outputs": [],
   "source": [
    "import os\n",
    "# folder containing the training and test data\n",
    "data_dir = \"data_converted\"\n",
    "\n",
    "# set prefix, a descriptive name for a directory  \n",
    "prefix = \"retail_analytics_data\"\n",
    "\n",
    "# upload all data to S3\n",
    "train_input = sagemaker_session.upload_data(path=os.path.join(data_dir, \"train.csv\"), bucket=bucket, key_prefix=prefix)\n",
    "val_input = sagemaker_session.upload_data(path=os.path.join(data_dir, \"val.csv\"), bucket=bucket, key_prefix=prefix)\n",
    "test_input = sagemaker_session.upload_data(path=os.path.join(data_dir, \"test.csv\"), bucket=bucket, key_prefix=prefix)"
   ]
  },
  {
   "cell_type": "markdown",
   "metadata": {},
   "source": [
    "### Test \n",
    "Check if uploading the data to S3 was successfull."
   ]
  },
  {
   "cell_type": "code",
   "execution_count": 44,
   "metadata": {},
   "outputs": [
    {
     "name": "stdout",
     "output_type": "stream",
     "text": [
      "retail_analytics_data/test.csv\n",
      "retail_analytics_data/train.csv\n",
      "retail_analytics_data/val.csv\n",
      "Test passed!\n"
     ]
    }
   ],
   "source": [
    "# confirm that data is in S3 bucket\n",
    "empty_check = []\n",
    "for obj in boto3.resource('s3').Bucket(bucket).objects.all():\n",
    "    empty_check.append(obj.key)\n",
    "    print(obj.key)\n",
    "\n",
    "assert len(empty_check) !=0, 'S3 bucket is empty.'\n",
    "print('Test passed!')"
   ]
  },
  {
   "cell_type": "markdown",
   "metadata": {},
   "source": [
    "## Train the Benchmark Model\n",
    "\n",
    "<br>\n",
    "As benchmark model a linear regression model should be trained. The model is trained using the sklearn library. The training code is located in the file \"train_linear_regression.py\" within the source folder."
   ]
  },
  {
   "cell_type": "code",
   "execution_count": 45,
   "metadata": {},
   "outputs": [],
   "source": [
    "from sagemaker.sklearn.estimator import SKLearn\n",
    "\n",
    "FRAMEWORK_VERSION = \"0.23-1\"\n",
    "script_path = 'source/train_linear_regression.py'\n",
    "\n",
    "sklearn_linear_regression = SKLearn(\n",
    "    entry_point=script_path,\n",
    "    framework_version=FRAMEWORK_VERSION,\n",
    "    instance_type=\"ml.c4.xlarge\",\n",
    "    role=role,\n",
    "    sagemaker_session=sagemaker_session)"
   ]
  },
  {
   "cell_type": "markdown",
   "metadata": {},
   "source": [
    "### Train"
   ]
  },
  {
   "cell_type": "code",
   "execution_count": 46,
   "metadata": {},
   "outputs": [
    {
     "name": "stdout",
     "output_type": "stream",
     "text": [
      "2021-01-05 16:26:06 Starting - Starting the training job...\n",
      "2021-01-05 16:26:30 Starting - Launching requested ML instancesProfilerReport-1609863966: InProgress\n",
      ".........\n",
      "2021-01-05 16:27:51 Starting - Preparing the instances for training......\n",
      "2021-01-05 16:29:07 Downloading - Downloading input data\n",
      "2021-01-05 16:29:07 Training - Downloading the training image...\n",
      "2021-01-05 16:29:33 Uploading - Uploading generated training model\u001b[34m2021-01-05 16:29:23,047 sagemaker-training-toolkit INFO     Imported framework sagemaker_sklearn_container.training\u001b[0m\n",
      "\u001b[34m2021-01-05 16:29:23,049 sagemaker-training-toolkit INFO     No GPUs detected (normal if no gpus installed)\u001b[0m\n",
      "\u001b[34m2021-01-05 16:29:23,067 sagemaker_sklearn_container.training INFO     Invoking user training script.\u001b[0m\n",
      "\u001b[34m2021-01-05 16:29:23,497 sagemaker-training-toolkit INFO     No GPUs detected (normal if no gpus installed)\u001b[0m\n",
      "\u001b[34m2021-01-05 16:29:23,512 sagemaker-training-toolkit INFO     No GPUs detected (normal if no gpus installed)\u001b[0m\n",
      "\u001b[34m2021-01-05 16:29:23,525 sagemaker-training-toolkit INFO     No GPUs detected (normal if no gpus installed)\u001b[0m\n",
      "\u001b[34m2021-01-05 16:29:23,537 sagemaker-training-toolkit INFO     Invoking user script\n",
      "\u001b[0m\n",
      "\u001b[34mTraining Env:\n",
      "\u001b[0m\n",
      "\u001b[34m{\n",
      "    \"additional_framework_parameters\": {},\n",
      "    \"channel_input_dirs\": {\n",
      "        \"validation\": \"/opt/ml/input/data/validation\",\n",
      "        \"train\": \"/opt/ml/input/data/train\"\n",
      "    },\n",
      "    \"current_host\": \"algo-1\",\n",
      "    \"framework_module\": \"sagemaker_sklearn_container.training:main\",\n",
      "    \"hosts\": [\n",
      "        \"algo-1\"\n",
      "    ],\n",
      "    \"hyperparameters\": {},\n",
      "    \"input_config_dir\": \"/opt/ml/input/config\",\n",
      "    \"input_data_config\": {\n",
      "        \"validation\": {\n",
      "            \"TrainingInputMode\": \"File\",\n",
      "            \"S3DistributionType\": \"FullyReplicated\",\n",
      "            \"RecordWrapperType\": \"None\"\n",
      "        },\n",
      "        \"train\": {\n",
      "            \"TrainingInputMode\": \"File\",\n",
      "            \"S3DistributionType\": \"FullyReplicated\",\n",
      "            \"RecordWrapperType\": \"None\"\n",
      "        }\n",
      "    },\n",
      "    \"input_dir\": \"/opt/ml/input\",\n",
      "    \"is_master\": true,\n",
      "    \"job_name\": \"sagemaker-scikit-learn-2021-01-05-16-26-06-262\",\n",
      "    \"log_level\": 20,\n",
      "    \"master_hostname\": \"algo-1\",\n",
      "    \"model_dir\": \"/opt/ml/model\",\n",
      "    \"module_dir\": \"s3://sagemaker-us-east-1-720151430870/sagemaker-scikit-learn-2021-01-05-16-26-06-262/source/sourcedir.tar.gz\",\n",
      "    \"module_name\": \"train_linear_regression\",\n",
      "    \"network_interface_name\": \"eth0\",\n",
      "    \"num_cpus\": 4,\n",
      "    \"num_gpus\": 0,\n",
      "    \"output_data_dir\": \"/opt/ml/output/data\",\n",
      "    \"output_dir\": \"/opt/ml/output\",\n",
      "    \"output_intermediate_dir\": \"/opt/ml/output/intermediate\",\n",
      "    \"resource_config\": {\n",
      "        \"current_host\": \"algo-1\",\n",
      "        \"hosts\": [\n",
      "            \"algo-1\"\n",
      "        ],\n",
      "        \"network_interface_name\": \"eth0\"\n",
      "    },\n",
      "    \"user_entry_point\": \"train_linear_regression.py\"\u001b[0m\n",
      "\u001b[34m}\n",
      "\u001b[0m\n",
      "\u001b[34mEnvironment variables:\n",
      "\u001b[0m\n",
      "\u001b[34mSM_HOSTS=[\"algo-1\"]\u001b[0m\n",
      "\u001b[34mSM_NETWORK_INTERFACE_NAME=eth0\u001b[0m\n",
      "\u001b[34mSM_HPS={}\u001b[0m\n",
      "\u001b[34mSM_USER_ENTRY_POINT=train_linear_regression.py\u001b[0m\n",
      "\u001b[34mSM_FRAMEWORK_PARAMS={}\u001b[0m\n",
      "\u001b[34mSM_RESOURCE_CONFIG={\"current_host\":\"algo-1\",\"hosts\":[\"algo-1\"],\"network_interface_name\":\"eth0\"}\u001b[0m\n",
      "\u001b[34mSM_INPUT_DATA_CONFIG={\"train\":{\"RecordWrapperType\":\"None\",\"S3DistributionType\":\"FullyReplicated\",\"TrainingInputMode\":\"File\"},\"validation\":{\"RecordWrapperType\":\"None\",\"S3DistributionType\":\"FullyReplicated\",\"TrainingInputMode\":\"File\"}}\u001b[0m\n",
      "\u001b[34mSM_OUTPUT_DATA_DIR=/opt/ml/output/data\u001b[0m\n",
      "\u001b[34mSM_CHANNELS=[\"train\",\"validation\"]\u001b[0m\n",
      "\u001b[34mSM_CURRENT_HOST=algo-1\u001b[0m\n",
      "\u001b[34mSM_MODULE_NAME=train_linear_regression\u001b[0m\n",
      "\u001b[34mSM_LOG_LEVEL=20\u001b[0m\n",
      "\u001b[34mSM_FRAMEWORK_MODULE=sagemaker_sklearn_container.training:main\u001b[0m\n",
      "\u001b[34mSM_INPUT_DIR=/opt/ml/input\u001b[0m\n",
      "\u001b[34mSM_INPUT_CONFIG_DIR=/opt/ml/input/config\u001b[0m\n",
      "\u001b[34mSM_OUTPUT_DIR=/opt/ml/output\u001b[0m\n",
      "\u001b[34mSM_NUM_CPUS=4\u001b[0m\n",
      "\u001b[34mSM_NUM_GPUS=0\u001b[0m\n",
      "\u001b[34mSM_MODEL_DIR=/opt/ml/model\u001b[0m\n",
      "\u001b[34mSM_MODULE_DIR=s3://sagemaker-us-east-1-720151430870/sagemaker-scikit-learn-2021-01-05-16-26-06-262/source/sourcedir.tar.gz\u001b[0m\n",
      "\u001b[34mSM_TRAINING_ENV={\"additional_framework_parameters\":{},\"channel_input_dirs\":{\"train\":\"/opt/ml/input/data/train\",\"validation\":\"/opt/ml/input/data/validation\"},\"current_host\":\"algo-1\",\"framework_module\":\"sagemaker_sklearn_container.training:main\",\"hosts\":[\"algo-1\"],\"hyperparameters\":{},\"input_config_dir\":\"/opt/ml/input/config\",\"input_data_config\":{\"train\":{\"RecordWrapperType\":\"None\",\"S3DistributionType\":\"FullyReplicated\",\"TrainingInputMode\":\"File\"},\"validation\":{\"RecordWrapperType\":\"None\",\"S3DistributionType\":\"FullyReplicated\",\"TrainingInputMode\":\"File\"}},\"input_dir\":\"/opt/ml/input\",\"is_master\":true,\"job_name\":\"sagemaker-scikit-learn-2021-01-05-16-26-06-262\",\"log_level\":20,\"master_hostname\":\"algo-1\",\"model_dir\":\"/opt/ml/model\",\"module_dir\":\"s3://sagemaker-us-east-1-720151430870/sagemaker-scikit-learn-2021-01-05-16-26-06-262/source/sourcedir.tar.gz\",\"module_name\":\"train_linear_regression\",\"network_interface_name\":\"eth0\",\"num_cpus\":4,\"num_gpus\":0,\"output_data_dir\":\"/opt/ml/output/data\",\"output_dir\":\"/opt/ml/output\",\"output_intermediate_dir\":\"/opt/ml/output/intermediate\",\"resource_config\":{\"current_host\":\"algo-1\",\"hosts\":[\"algo-1\"],\"network_interface_name\":\"eth0\"},\"user_entry_point\":\"train_linear_regression.py\"}\u001b[0m\n",
      "\u001b[34mSM_USER_ARGS=[]\u001b[0m\n",
      "\u001b[34mSM_OUTPUT_INTERMEDIATE_DIR=/opt/ml/output/intermediate\u001b[0m\n",
      "\u001b[34mSM_CHANNEL_VALIDATION=/opt/ml/input/data/validation\u001b[0m\n",
      "\u001b[34mSM_CHANNEL_TRAIN=/opt/ml/input/data/train\u001b[0m\n",
      "\u001b[34mPYTHONPATH=/opt/ml/code:/miniconda3/bin:/miniconda3/lib/python37.zip:/miniconda3/lib/python3.7:/miniconda3/lib/python3.7/lib-dynload:/miniconda3/lib/python3.7/site-packages\n",
      "\u001b[0m\n",
      "\u001b[34mInvoking script with the following command:\n",
      "\u001b[0m\n",
      "\u001b[34m/miniconda3/bin/python train_linear_regression.py\n",
      "\n",
      "\u001b[0m\n",
      "\u001b[34m2021-01-05 16:29:28,474 sagemaker-training-toolkit INFO     Reporting training SUCCESS\u001b[0m\n",
      "\n",
      "2021-01-05 16:29:53 Completed - Training job completed\n",
      "Training seconds: 61\n",
      "Billable seconds: 61\n",
      "CPU times: user 653 ms, sys: 37 ms, total: 690 ms\n",
      "Wall time: 4min 13s\n"
     ]
    }
   ],
   "source": [
    "%%time\n",
    "\n",
    "# Train the estimator on S3 training data\n",
    "sklearn_linear_regression.fit({\"train\": train_input, \"validation\": val_input})"
   ]
  },
  {
   "cell_type": "markdown",
   "metadata": {},
   "source": [
    "### Deploy"
   ]
  },
  {
   "cell_type": "code",
   "execution_count": null,
   "metadata": {},
   "outputs": [],
   "source": [
    "%%time\n",
    "\n",
    "# deploy the model to create a predictor\n",
    "predictor_linear_regression = sklearn_linear_regression.deploy(initial_instance_count=1, instance_type='ml.t2.medium')"
   ]
  },
  {
   "cell_type": "markdown",
   "metadata": {},
   "source": [
    "### Evaluate"
   ]
  },
  {
   "cell_type": "code",
   "execution_count": 14,
   "metadata": {},
   "outputs": [],
   "source": [
    "import os\n",
    "\n",
    "# read in test data, assuming it is stored locally\n",
    "test_data = pd.read_csv(os.path.join(data_dir, \"test.csv\"), header=None, names=None)\n",
    "\n",
    "# labels are in the first column\n",
    "test_y_true = test_data.iloc[:,0]\n",
    "test_x = test_data.iloc[:,1:]"
   ]
  },
  {
   "cell_type": "code",
   "execution_count": null,
   "metadata": {},
   "outputs": [],
   "source": [
    "# compute MSE\n",
    "from sklearn.metrics import mean_squared_error\n",
    "\n",
    "test_y_preds = predictor_linear_regression.predict(test_x.values)\n",
    "rmse = mean_squared_error(test_y_true, test_y_preds, squared=False)\n",
    "print(f\"RMSE: {rmse}\")"
   ]
  },
  {
   "cell_type": "code",
   "execution_count": null,
   "metadata": {},
   "outputs": [],
   "source": [
    "# plot some results\n",
    "num_samples_test = 100\n",
    "fig = plt.figure(figsize=(16, 8))\n",
    "plt.plot(test_y_preds[:NUM_SAMPLES_TEST_VISUALIZATION])\n",
    "plt.plot(test_y_true[:NUM_SAMPLES_TEST_VISUALIZATION])\n",
    "plt.legend((\"predictions\", \"ground_truth\"))\n",
    "plt.ylabel(\"Weekly Sales\")\n",
    "plt.xlabel(\"Num Sample\")\n",
    "plt.show()"
   ]
  },
  {
   "cell_type": "markdown",
   "metadata": {},
   "source": [
    "## Train Linear Regression with Standardization"
   ]
  },
  {
   "cell_type": "code",
   "execution_count": null,
   "metadata": {},
   "outputs": [],
   "source": [
    "from sagemaker.sklearn.estimator import SKLearn\n",
    "\n",
    "FRAMEWORK_VERSION = \"0.23-1\"\n",
    "script_path = 'source/train_linear_regression.py'\n",
    "\n",
    "sklearn_linear_regression_standardized = SKLearn(\n",
    "    entry_point=script_path,\n",
    "    framework_version=FRAMEWORK_VERSION,\n",
    "    instance_type=\"ml.c4.xlarge\",\n",
    "    role=role,\n",
    "    sagemaker_session=sagemaker_session\n",
    "    hyperparameters = {\"standardize\": True})"
   ]
  },
  {
   "cell_type": "markdown",
   "metadata": {},
   "source": [
    "### Train"
   ]
  },
  {
   "cell_type": "code",
   "execution_count": null,
   "metadata": {},
   "outputs": [],
   "source": [
    "%%time\n",
    "\n",
    "# Train the estimator on S3 training data\n",
    "sklearn_linear_regression_standardized.fit({\"train\": train_input, \"validation\": val_input})"
   ]
  },
  {
   "cell_type": "markdown",
   "metadata": {},
   "source": [
    "### Deploy"
   ]
  },
  {
   "cell_type": "code",
   "execution_count": null,
   "metadata": {},
   "outputs": [],
   "source": [
    "%%time\n",
    "\n",
    "# deploy the model to create a predictor\n",
    "predictor_linear_regression_standardized = \n",
    "                        sklearn_linear_regression_standardized.deploy(initial_instance_count=1, instance_type='ml.t2.medium')"
   ]
  },
  {
   "cell_type": "markdown",
   "metadata": {},
   "source": [
    "### Evaluate"
   ]
  },
  {
   "cell_type": "code",
   "execution_count": null,
   "metadata": {},
   "outputs": [],
   "source": [
    "# compute MSE\n",
    "from sklearn.metrics import mean_squared_error\n",
    "\n",
    "test_y_preds = predictor_linear_regression_standardized.predict(test_x.values)\n",
    "rmse = mean_squared_error(test_y_true, test_y_preds, squared=False)\n",
    "print(f\"RMSE: {rmse}\")"
   ]
  },
  {
   "cell_type": "code",
   "execution_count": null,
   "metadata": {},
   "outputs": [],
   "source": [
    "# plot some results\n",
    "num_samples_test = 100\n",
    "fig = plt.figure(figsize=(16, 8))\n",
    "plt.plot(test_y_preds[:NUM_SAMPLES_TEST_VISUALIZATION])\n",
    "plt.plot(test_y_true[:NUM_SAMPLES_TEST_VISUALIZATION])\n",
    "plt.legend((\"predictions\", \"ground_truth\"))\n",
    "plt.ylabel(\"Weekly Sales\")\n",
    "plt.xlabel(\"Num Sample\")\n",
    "plt.show()"
   ]
  },
  {
   "cell_type": "markdown",
   "metadata": {},
   "source": [
    "## Train Decision Tree Regressor"
   ]
  },
  {
   "cell_type": "code",
   "execution_count": 10,
   "metadata": {},
   "outputs": [],
   "source": [
    "from sagemaker.sklearn.estimator import SKLearn\n",
    "\n",
    "FRAMEWORK_VERSION = \"0.23-1\"\n",
    "script_path = 'train_decision_tree.py'\n",
    "\n",
    "hyperparameters = {\n",
    "    \"n-iter\": 7,\n",
    "    \"n-folds\": 5\n",
    "}\n",
    "\n",
    "sklearn_decision_tree = SKLearn(\n",
    "    entry_point=script_path,\n",
    "    framework_version=FRAMEWORK_VERSION,\n",
    "    instance_type=\"ml.c4.xlarge\",\n",
    "    role=role,\n",
    "    sagemaker_session=sagemaker_session,\n",
    "    source_dir = \"source\",\n",
    "    hyperparameters = hyperparameters)"
   ]
  },
  {
   "cell_type": "markdown",
   "metadata": {},
   "source": [
    "### Train"
   ]
  },
  {
   "cell_type": "code",
   "execution_count": 11,
   "metadata": {},
   "outputs": [
    {
     "name": "stdout",
     "output_type": "stream",
     "text": [
      "2021-01-05 12:39:29 Starting - Starting the training job...\n",
      "2021-01-05 12:39:53 Starting - Launching requested ML instancesProfilerReport-1609850369: InProgress\n",
      ".........\n",
      "2021-01-05 12:41:14 Starting - Preparing the instances for training......\n",
      "2021-01-05 12:42:15 Downloading - Downloading input data...\n",
      "2021-01-05 12:42:59 Training - Training image download completed. Training in progress..\u001b[34m2021-01-05 12:42:59,759 sagemaker-training-toolkit INFO     Imported framework sagemaker_sklearn_container.training\u001b[0m\n",
      "\u001b[34m2021-01-05 12:42:59,761 sagemaker-training-toolkit INFO     No GPUs detected (normal if no gpus installed)\u001b[0m\n",
      "\u001b[34m2021-01-05 12:42:59,770 sagemaker_sklearn_container.training INFO     Invoking user training script.\u001b[0m\n",
      "\u001b[34m2021-01-05 12:43:03,232 sagemaker-training-toolkit INFO     Installing dependencies from requirements.txt:\u001b[0m\n",
      "\u001b[34m/miniconda3/bin/python -m pip install -r requirements.txt\u001b[0m\n",
      "\u001b[34mCollecting scikit-optimize==0.8.1\n",
      "  Downloading scikit_optimize-0.8.1-py2.py3-none-any.whl (101 kB)\u001b[0m\n",
      "\u001b[34mRequirement already satisfied: scipy>=0.19.1 in /miniconda3/lib/python3.7/site-packages (from scikit-optimize==0.8.1->-r requirements.txt (line 1)) (1.5.3)\u001b[0m\n",
      "\u001b[34mRequirement already satisfied: joblib>=0.11 in /miniconda3/lib/python3.7/site-packages (from scikit-optimize==0.8.1->-r requirements.txt (line 1)) (0.17.0)\u001b[0m\n",
      "\u001b[34mCollecting pyaml>=16.9\n",
      "  Downloading pyaml-20.4.0-py2.py3-none-any.whl (17 kB)\u001b[0m\n",
      "\u001b[34mRequirement already satisfied: numpy>=1.13.3 in /miniconda3/lib/python3.7/site-packages (from scikit-optimize==0.8.1->-r requirements.txt (line 1)) (1.19.2)\u001b[0m\n",
      "\u001b[34mRequirement already satisfied: scikit-learn>=0.20.0 in /miniconda3/lib/python3.7/site-packages (from scikit-optimize==0.8.1->-r requirements.txt (line 1)) (0.23.2)\u001b[0m\n",
      "\u001b[34mCollecting PyYAML\n",
      "  Downloading PyYAML-5.3.1.tar.gz (269 kB)\u001b[0m\n",
      "\u001b[34mRequirement already satisfied: threadpoolctl>=2.0.0 in /miniconda3/lib/python3.7/site-packages (from scikit-learn>=0.20.0->scikit-optimize==0.8.1->-r requirements.txt (line 1)) (2.1.0)\u001b[0m\n",
      "\u001b[34mBuilding wheels for collected packages: PyYAML\n",
      "  Building wheel for PyYAML (setup.py): started\u001b[0m\n",
      "\u001b[34m  Building wheel for PyYAML (setup.py): finished with status 'done'\n",
      "  Created wheel for PyYAML: filename=PyYAML-5.3.1-cp37-cp37m-linux_x86_64.whl size=44619 sha256=b886a61de4ca4835b994b4231ed596b59189a6dd01cba3d5fff6782151fae481\n",
      "  Stored in directory: /root/.cache/pip/wheels/5e/03/1e/e1e954795d6f35dfc7b637fe2277bff021303bd9570ecea653\u001b[0m\n",
      "\u001b[34mSuccessfully built PyYAML\u001b[0m\n",
      "\u001b[34mInstalling collected packages: PyYAML, pyaml, scikit-optimize\u001b[0m\n",
      "\u001b[34mSuccessfully installed PyYAML-5.3.1 pyaml-20.4.0 scikit-optimize-0.8.1\u001b[0m\n",
      "\u001b[34m2021-01-05 12:43:06,112 sagemaker-training-toolkit INFO     No GPUs detected (normal if no gpus installed)\u001b[0m\n",
      "\u001b[34m2021-01-05 12:43:06,125 sagemaker-training-toolkit INFO     No GPUs detected (normal if no gpus installed)\u001b[0m\n",
      "\u001b[34m2021-01-05 12:43:06,137 sagemaker-training-toolkit INFO     No GPUs detected (normal if no gpus installed)\u001b[0m\n",
      "\u001b[34m2021-01-05 12:43:06,146 sagemaker-training-toolkit INFO     Invoking user script\n",
      "\u001b[0m\n",
      "\u001b[34mTraining Env:\n",
      "\u001b[0m\n",
      "\u001b[34m{\n",
      "    \"additional_framework_parameters\": {},\n",
      "    \"channel_input_dirs\": {\n",
      "        \"train\": \"/opt/ml/input/data/train\"\n",
      "    },\n",
      "    \"current_host\": \"algo-1\",\n",
      "    \"framework_module\": \"sagemaker_sklearn_container.training:main\",\n",
      "    \"hosts\": [\n",
      "        \"algo-1\"\n",
      "    ],\n",
      "    \"hyperparameters\": {\n",
      "        \"n-iter\": 7,\n",
      "        \"n-folds\": 5\n",
      "    },\n",
      "    \"input_config_dir\": \"/opt/ml/input/config\",\n",
      "    \"input_data_config\": {\n",
      "        \"train\": {\n",
      "            \"TrainingInputMode\": \"File\",\n",
      "            \"S3DistributionType\": \"FullyReplicated\",\n",
      "            \"RecordWrapperType\": \"None\"\n",
      "        }\n",
      "    },\n",
      "    \"input_dir\": \"/opt/ml/input\",\n",
      "    \"is_master\": true,\n",
      "    \"job_name\": \"sagemaker-scikit-learn-2021-01-05-12-39-29-619\",\n",
      "    \"log_level\": 20,\n",
      "    \"master_hostname\": \"algo-1\",\n",
      "    \"model_dir\": \"/opt/ml/model\",\n",
      "    \"module_dir\": \"s3://sagemaker-us-east-1-720151430870/sagemaker-scikit-learn-2021-01-05-12-39-29-619/source/sourcedir.tar.gz\",\n",
      "    \"module_name\": \"train_decision_tree\",\n",
      "    \"network_interface_name\": \"eth0\",\n",
      "    \"num_cpus\": 4,\n",
      "    \"num_gpus\": 0,\n",
      "    \"output_data_dir\": \"/opt/ml/output/data\",\n",
      "    \"output_dir\": \"/opt/ml/output\",\n",
      "    \"output_intermediate_dir\": \"/opt/ml/output/intermediate\",\n",
      "    \"resource_config\": {\n",
      "        \"current_host\": \"algo-1\",\n",
      "        \"hosts\": [\n",
      "            \"algo-1\"\n",
      "        ],\n",
      "        \"network_interface_name\": \"eth0\"\n",
      "    },\n",
      "    \"user_entry_point\": \"train_decision_tree.py\"\u001b[0m\n",
      "\u001b[34m}\n",
      "\u001b[0m\n",
      "\u001b[34mEnvironment variables:\n",
      "\u001b[0m\n",
      "\u001b[34mSM_HOSTS=[\"algo-1\"]\u001b[0m\n",
      "\u001b[34mSM_NETWORK_INTERFACE_NAME=eth0\u001b[0m\n",
      "\u001b[34mSM_HPS={\"n-folds\":5,\"n-iter\":7}\u001b[0m\n",
      "\u001b[34mSM_USER_ENTRY_POINT=train_decision_tree.py\u001b[0m\n",
      "\u001b[34mSM_FRAMEWORK_PARAMS={}\u001b[0m\n",
      "\u001b[34mSM_RESOURCE_CONFIG={\"current_host\":\"algo-1\",\"hosts\":[\"algo-1\"],\"network_interface_name\":\"eth0\"}\u001b[0m\n",
      "\u001b[34mSM_INPUT_DATA_CONFIG={\"train\":{\"RecordWrapperType\":\"None\",\"S3DistributionType\":\"FullyReplicated\",\"TrainingInputMode\":\"File\"}}\u001b[0m\n",
      "\u001b[34mSM_OUTPUT_DATA_DIR=/opt/ml/output/data\u001b[0m\n",
      "\u001b[34mSM_CHANNELS=[\"train\"]\u001b[0m\n",
      "\u001b[34mSM_CURRENT_HOST=algo-1\u001b[0m\n",
      "\u001b[34mSM_MODULE_NAME=train_decision_tree\u001b[0m\n",
      "\u001b[34mSM_LOG_LEVEL=20\u001b[0m\n",
      "\u001b[34mSM_FRAMEWORK_MODULE=sagemaker_sklearn_container.training:main\u001b[0m\n",
      "\u001b[34mSM_INPUT_DIR=/opt/ml/input\u001b[0m\n",
      "\u001b[34mSM_INPUT_CONFIG_DIR=/opt/ml/input/config\u001b[0m\n",
      "\u001b[34mSM_OUTPUT_DIR=/opt/ml/output\u001b[0m\n",
      "\u001b[34mSM_NUM_CPUS=4\u001b[0m\n",
      "\u001b[34mSM_NUM_GPUS=0\u001b[0m\n",
      "\u001b[34mSM_MODEL_DIR=/opt/ml/model\u001b[0m\n",
      "\u001b[34mSM_MODULE_DIR=s3://sagemaker-us-east-1-720151430870/sagemaker-scikit-learn-2021-01-05-12-39-29-619/source/sourcedir.tar.gz\u001b[0m\n",
      "\u001b[34mSM_TRAINING_ENV={\"additional_framework_parameters\":{},\"channel_input_dirs\":{\"train\":\"/opt/ml/input/data/train\"},\"current_host\":\"algo-1\",\"framework_module\":\"sagemaker_sklearn_container.training:main\",\"hosts\":[\"algo-1\"],\"hyperparameters\":{\"n-folds\":5,\"n-iter\":7},\"input_config_dir\":\"/opt/ml/input/config\",\"input_data_config\":{\"train\":{\"RecordWrapperType\":\"None\",\"S3DistributionType\":\"FullyReplicated\",\"TrainingInputMode\":\"File\"}},\"input_dir\":\"/opt/ml/input\",\"is_master\":true,\"job_name\":\"sagemaker-scikit-learn-2021-01-05-12-39-29-619\",\"log_level\":20,\"master_hostname\":\"algo-1\",\"model_dir\":\"/opt/ml/model\",\"module_dir\":\"s3://sagemaker-us-east-1-720151430870/sagemaker-scikit-learn-2021-01-05-12-39-29-619/source/sourcedir.tar.gz\",\"module_name\":\"train_decision_tree\",\"network_interface_name\":\"eth0\",\"num_cpus\":4,\"num_gpus\":0,\"output_data_dir\":\"/opt/ml/output/data\",\"output_dir\":\"/opt/ml/output\",\"output_intermediate_dir\":\"/opt/ml/output/intermediate\",\"resource_config\":{\"current_host\":\"algo-1\",\"hosts\":[\"algo-1\"],\"network_interface_name\":\"eth0\"},\"user_entry_point\":\"train_decision_tree.py\"}\u001b[0m\n",
      "\u001b[34mSM_USER_ARGS=[\"--n-folds\",\"5\",\"--n-iter\",\"7\"]\u001b[0m\n",
      "\u001b[34mSM_OUTPUT_INTERMEDIATE_DIR=/opt/ml/output/intermediate\u001b[0m\n",
      "\u001b[34mSM_CHANNEL_TRAIN=/opt/ml/input/data/train\u001b[0m\n",
      "\u001b[34mSM_HP_N-ITER=7\u001b[0m\n",
      "\u001b[34mSM_HP_N-FOLDS=5\u001b[0m\n",
      "\u001b[34mPYTHONPATH=/opt/ml/code:/miniconda3/bin:/miniconda3/lib/python37.zip:/miniconda3/lib/python3.7:/miniconda3/lib/python3.7/lib-dynload:/miniconda3/lib/python3.7/site-packages\n",
      "\u001b[0m\n",
      "\u001b[34mInvoking script with the following command:\n",
      "\u001b[0m\n",
      "\u001b[34m/miniconda3/bin/python train_decision_tree.py --n-folds 5 --n-iter 7\n",
      "\n",
      "\u001b[0m\n",
      "\n",
      "2021-01-05 12:45:34 Uploading - Uploading generated training model\n",
      "2021-01-05 12:45:34 Completed - Training job completed\n",
      "\u001b[34m2021-01-05 12:45:23,519 sagemaker-training-toolkit INFO     Reporting training SUCCESS\u001b[0m\n",
      "Training seconds: 202\n",
      "Billable seconds: 202\n",
      "CPU times: user 884 ms, sys: 31.8 ms, total: 915 ms\n",
      "Wall time: 6min 15s\n"
     ]
    }
   ],
   "source": [
    "%%time\n",
    "\n",
    "# Train the estimator on S3 training data\n",
    "sklearn_decision_tree.fit({\"train\": train_input, \"validation\": val_input})"
   ]
  },
  {
   "cell_type": "markdown",
   "metadata": {},
   "source": [
    "### Deploy"
   ]
  },
  {
   "cell_type": "code",
   "execution_count": 12,
   "metadata": {},
   "outputs": [
    {
     "name": "stdout",
     "output_type": "stream",
     "text": [
      "-----------------!CPU times: user 290 ms, sys: 43.8 ms, total: 334 ms\n",
      "Wall time: 8min 32s\n"
     ]
    }
   ],
   "source": [
    "%%time\n",
    "\n",
    "# deploy the model to create a predictor\n",
    "predictor_decision_tree = sklearn_decision_tree.deploy(initial_instance_count=1, instance_type='ml.t2.medium')"
   ]
  },
  {
   "cell_type": "markdown",
   "metadata": {},
   "source": [
    "### Evaluate"
   ]
  },
  {
   "cell_type": "code",
   "execution_count": 22,
   "metadata": {},
   "outputs": [
    {
     "name": "stdout",
     "output_type": "stream",
     "text": [
      "RMSE: 6069.75347550491\n"
     ]
    }
   ],
   "source": [
    "# compute MSE\n",
    "from sklearn.metrics import mean_squared_error\n",
    "\n",
    "test_y_preds = predictor_decision_tree.predict(test_x.values)\n",
    "rmse = mean_squared_error(test_y_true, test_y_preds, squared=False)\n",
    "print(f\"RMSE: {rmse}\")"
   ]
  },
  {
   "cell_type": "code",
   "execution_count": 23,
   "metadata": {},
   "outputs": [
    {
     "data": {
      "image/png": "[encoded data removed]",
      "text/plain": [
       "<Figure size 1152x576 with 1 Axes>"
      ]
     },
     "metadata": {
      "needs_background": "light"
     },
     "output_type": "display_data"
    }
   ],
   "source": [
    "# plot some results\n",
    "fig = plt.figure(figsize=(16, 8))\n",
    "plt.plot(test_y_preds[:NUM_SAMPLES_TEST_VISUALIZATION])\n",
    "plt.plot(test_y_true[:NUM_SAMPLES_TEST_VISUALIZATION])\n",
    "plt.legend((\"predictions\", \"ground_truth\"))\n",
    "plt.ylabel(\"Weekly Sales\")\n",
    "plt.xlabel(\"Num Sample\")\n",
    "plt.show()"
   ]
  },
  {
   "cell_type": "markdown",
   "metadata": {},
   "source": [
    "## Train Random Forest Regressor"
   ]
  },
  {
   "cell_type": "code",
   "execution_count": 24,
   "metadata": {},
   "outputs": [],
   "source": [
    "from sagemaker.sklearn.estimator import SKLearn\n",
    "\n",
    "FRAMEWORK_VERSION = \"0.23-1\"\n",
    "script_path = 'train_random_forest.py'\n",
    "\n",
    "hyperparameters = {\n",
    "    \"n-iter\": 20,\n",
    "    \"n-folds\": 5\n",
    "}\n",
    "\n",
    "sklearn_random_forest = SKLearn(\n",
    "    entry_point=script_path,\n",
    "    framework_version=FRAMEWORK_VERSION,\n",
    "    instance_type=\"ml.c4.xlarge\",\n",
    "    role=role,\n",
    "    sagemaker_session=sagemaker_session,\n",
    "    source_dir = \"source\",\n",
    "    hyperparameters = hyperparameters)"
   ]
  },
  {
   "cell_type": "markdown",
   "metadata": {},
   "source": [
    "### Train"
   ]
  },
  {
   "cell_type": "code",
   "execution_count": null,
   "metadata": {},
   "outputs": [
    {
     "name": "stdout",
     "output_type": "stream",
     "text": [
      "2021-01-05 13:12:47 Starting - Starting the training job...\n",
      "2021-01-05 13:13:11 Starting - Launching requested ML instancesProfilerReport-1609852366: InProgress\n",
      ".........\n",
      "2021-01-05 13:14:32 Starting - Preparing the instances for training......\n",
      "2021-01-05 13:15:44 Downloading - Downloading input data\n",
      "2021-01-05 13:15:44 Training - Downloading the training image...\n",
      "2021-01-05 13:16:13 Training - Training image download completed. Training in progress.\u001b[34m2021-01-05 13:16:05,157 sagemaker-training-toolkit INFO     Imported framework sagemaker_sklearn_container.training\u001b[0m\n",
      "\u001b[34m2021-01-05 13:16:05,159 sagemaker-training-toolkit INFO     No GPUs detected (normal if no gpus installed)\u001b[0m\n",
      "\u001b[34m2021-01-05 13:16:05,169 sagemaker_sklearn_container.training INFO     Invoking user training script.\u001b[0m\n",
      "\u001b[34m2021-01-05 13:16:05,519 sagemaker-training-toolkit INFO     Installing dependencies from requirements.txt:\u001b[0m\n",
      "\u001b[34m/miniconda3/bin/python -m pip install -r requirements.txt\u001b[0m\n",
      "\u001b[34mCollecting scikit-optimize==0.8.1\n",
      "  Downloading scikit_optimize-0.8.1-py2.py3-none-any.whl (101 kB)\u001b[0m\n",
      "\u001b[34mRequirement already satisfied: joblib>=0.11 in /miniconda3/lib/python3.7/site-packages (from scikit-optimize==0.8.1->-r requirements.txt (line 1)) (0.17.0)\u001b[0m\n",
      "\u001b[34mRequirement already satisfied: scikit-learn>=0.20.0 in /miniconda3/lib/python3.7/site-packages (from scikit-optimize==0.8.1->-r requirements.txt (line 1)) (0.23.2)\u001b[0m\n",
      "\u001b[34mCollecting pyaml>=16.9\n",
      "  Downloading pyaml-20.4.0-py2.py3-none-any.whl (17 kB)\u001b[0m\n",
      "\u001b[34mRequirement already satisfied: scipy>=0.19.1 in /miniconda3/lib/python3.7/site-packages (from scikit-optimize==0.8.1->-r requirements.txt (line 1)) (1.5.3)\u001b[0m\n",
      "\u001b[34mRequirement already satisfied: numpy>=1.13.3 in /miniconda3/lib/python3.7/site-packages (from scikit-optimize==0.8.1->-r requirements.txt (line 1)) (1.19.2)\u001b[0m\n",
      "\u001b[34mRequirement already satisfied: threadpoolctl>=2.0.0 in /miniconda3/lib/python3.7/site-packages (from scikit-learn>=0.20.0->scikit-optimize==0.8.1->-r requirements.txt (line 1)) (2.1.0)\u001b[0m\n",
      "\u001b[34mCollecting PyYAML\n",
      "  Downloading PyYAML-5.3.1.tar.gz (269 kB)\u001b[0m\n",
      "\u001b[34mBuilding wheels for collected packages: PyYAML\n",
      "  Building wheel for PyYAML (setup.py): started\n",
      "  Building wheel for PyYAML (setup.py): finished with status 'done'\n",
      "  Created wheel for PyYAML: filename=PyYAML-5.3.1-cp37-cp37m-linux_x86_64.whl size=44619 sha256=211b64b116db34b041d94ac793676fb4f69405cba894b76104ae6e1336e32479\n",
      "  Stored in directory: /root/.cache/pip/wheels/5e/03/1e/e1e954795d6f35dfc7b637fe2277bff021303bd9570ecea653\u001b[0m\n",
      "\u001b[34mSuccessfully built PyYAML\u001b[0m\n",
      "\u001b[34mInstalling collected packages: PyYAML, pyaml, scikit-optimize\u001b[0m\n",
      "\u001b[34mSuccessfully installed PyYAML-5.3.1 pyaml-20.4.0 scikit-optimize-0.8.1\u001b[0m\n",
      "\u001b[34m2021-01-05 13:16:08,362 sagemaker-training-toolkit INFO     No GPUs detected (normal if no gpus installed)\u001b[0m\n",
      "\u001b[34m2021-01-05 13:16:08,376 sagemaker-training-toolkit INFO     No GPUs detected (normal if no gpus installed)\u001b[0m\n",
      "\u001b[34m2021-01-05 13:16:08,388 sagemaker-training-toolkit INFO     No GPUs detected (normal if no gpus installed)\u001b[0m\n",
      "\u001b[34m2021-01-05 13:16:08,399 sagemaker-training-toolkit INFO     Invoking user script\n",
      "\u001b[0m\n",
      "\u001b[34mTraining Env:\n",
      "\u001b[0m\n",
      "\u001b[34m{\n",
      "    \"additional_framework_parameters\": {},\n",
      "    \"channel_input_dirs\": {\n",
      "        \"train\": \"/opt/ml/input/data/train\"\n",
      "    },\n",
      "    \"current_host\": \"algo-1\",\n",
      "    \"framework_module\": \"sagemaker_sklearn_container.training:main\",\n",
      "    \"hosts\": [\n",
      "        \"algo-1\"\n",
      "    ],\n",
      "    \"hyperparameters\": {\n",
      "        \"n-iter\": 20,\n",
      "        \"n-folds\": 5\n",
      "    },\n",
      "    \"input_config_dir\": \"/opt/ml/input/config\",\n",
      "    \"input_data_config\": {\n",
      "        \"train\": {\n",
      "            \"TrainingInputMode\": \"File\",\n",
      "            \"S3DistributionType\": \"FullyReplicated\",\n",
      "            \"RecordWrapperType\": \"None\"\n",
      "        }\n",
      "    },\n",
      "    \"input_dir\": \"/opt/ml/input\",\n",
      "    \"is_master\": true,\n",
      "    \"job_name\": \"sagemaker-scikit-learn-2021-01-05-13-12-46-654\",\n",
      "    \"log_level\": 20,\n",
      "    \"master_hostname\": \"algo-1\",\n",
      "    \"model_dir\": \"/opt/ml/model\",\n",
      "    \"module_dir\": \"s3://sagemaker-us-east-1-720151430870/sagemaker-scikit-learn-2021-01-05-13-12-46-654/source/sourcedir.tar.gz\",\n",
      "    \"module_name\": \"train_random_forest\",\n",
      "    \"network_interface_name\": \"eth0\",\n",
      "    \"num_cpus\": 4,\n",
      "    \"num_gpus\": 0,\n",
      "    \"output_data_dir\": \"/opt/ml/output/data\",\n",
      "    \"output_dir\": \"/opt/ml/output\",\n",
      "    \"output_intermediate_dir\": \"/opt/ml/output/intermediate\",\n",
      "    \"resource_config\": {\n",
      "        \"current_host\": \"algo-1\",\n",
      "        \"hosts\": [\n",
      "            \"algo-1\"\n",
      "        ],\n",
      "        \"network_interface_name\": \"eth0\"\n",
      "    },\n",
      "    \"user_entry_point\": \"train_random_forest.py\"\u001b[0m\n",
      "\u001b[34m}\n",
      "\u001b[0m\n",
      "\u001b[34mEnvironment variables:\n",
      "\u001b[0m\n",
      "\u001b[34mSM_HOSTS=[\"algo-1\"]\u001b[0m\n",
      "\u001b[34mSM_NETWORK_INTERFACE_NAME=eth0\u001b[0m\n",
      "\u001b[34mSM_HPS={\"n-folds\":5,\"n-iter\":20}\u001b[0m\n",
      "\u001b[34mSM_USER_ENTRY_POINT=train_random_forest.py\u001b[0m\n",
      "\u001b[34mSM_FRAMEWORK_PARAMS={}\u001b[0m\n",
      "\u001b[34mSM_RESOURCE_CONFIG={\"current_host\":\"algo-1\",\"hosts\":[\"algo-1\"],\"network_interface_name\":\"eth0\"}\u001b[0m\n",
      "\u001b[34mSM_INPUT_DATA_CONFIG={\"train\":{\"RecordWrapperType\":\"None\",\"S3DistributionType\":\"FullyReplicated\",\"TrainingInputMode\":\"File\"}}\u001b[0m\n",
      "\u001b[34mSM_OUTPUT_DATA_DIR=/opt/ml/output/data\u001b[0m\n",
      "\u001b[34mSM_CHANNELS=[\"train\"]\u001b[0m\n",
      "\u001b[34mSM_CURRENT_HOST=algo-1\u001b[0m\n",
      "\u001b[34mSM_MODULE_NAME=train_random_forest\u001b[0m\n",
      "\u001b[34mSM_LOG_LEVEL=20\u001b[0m\n",
      "\u001b[34mSM_FRAMEWORK_MODULE=sagemaker_sklearn_container.training:main\u001b[0m\n",
      "\u001b[34mSM_INPUT_DIR=/opt/ml/input\u001b[0m\n",
      "\u001b[34mSM_INPUT_CONFIG_DIR=/opt/ml/input/config\u001b[0m\n",
      "\u001b[34mSM_OUTPUT_DIR=/opt/ml/output\u001b[0m\n",
      "\u001b[34mSM_NUM_CPUS=4\u001b[0m\n",
      "\u001b[34mSM_NUM_GPUS=0\u001b[0m\n",
      "\u001b[34mSM_MODEL_DIR=/opt/ml/model\u001b[0m\n",
      "\u001b[34mSM_MODULE_DIR=s3://sagemaker-us-east-1-720151430870/sagemaker-scikit-learn-2021-01-05-13-12-46-654/source/sourcedir.tar.gz\u001b[0m\n",
      "\u001b[34mSM_TRAINING_ENV={\"additional_framework_parameters\":{},\"channel_input_dirs\":{\"train\":\"/opt/ml/input/data/train\"},\"current_host\":\"algo-1\",\"framework_module\":\"sagemaker_sklearn_container.training:main\",\"hosts\":[\"algo-1\"],\"hyperparameters\":{\"n-folds\":5,\"n-iter\":20},\"input_config_dir\":\"/opt/ml/input/config\",\"input_data_config\":{\"train\":{\"RecordWrapperType\":\"None\",\"S3DistributionType\":\"FullyReplicated\",\"TrainingInputMode\":\"File\"}},\"input_dir\":\"/opt/ml/input\",\"is_master\":true,\"job_name\":\"sagemaker-scikit-learn-2021-01-05-13-12-46-654\",\"log_level\":20,\"master_hostname\":\"algo-1\",\"model_dir\":\"/opt/ml/model\",\"module_dir\":\"s3://sagemaker-us-east-1-720151430870/sagemaker-scikit-learn-2021-01-05-13-12-46-654/source/sourcedir.tar.gz\",\"module_name\":\"train_random_forest\",\"network_interface_name\":\"eth0\",\"num_cpus\":4,\"num_gpus\":0,\"output_data_dir\":\"/opt/ml/output/data\",\"output_dir\":\"/opt/ml/output\",\"output_intermediate_dir\":\"/opt/ml/output/intermediate\",\"resource_config\":{\"current_host\":\"algo-1\",\"hosts\":[\"algo-1\"],\"network_interface_name\":\"eth0\"},\"user_entry_point\":\"train_random_forest.py\"}\u001b[0m\n",
      "\u001b[34mSM_USER_ARGS=[\"--n-folds\",\"5\",\"--n-iter\",\"20\"]\u001b[0m\n",
      "\u001b[34mSM_OUTPUT_INTERMEDIATE_DIR=/opt/ml/output/intermediate\u001b[0m\n",
      "\u001b[34mSM_CHANNEL_TRAIN=/opt/ml/input/data/train\u001b[0m\n",
      "\u001b[34mSM_HP_N-ITER=20\u001b[0m\n",
      "\u001b[34mSM_HP_N-FOLDS=5\u001b[0m\n",
      "\u001b[34mPYTHONPATH=/opt/ml/code:/miniconda3/bin:/miniconda3/lib/python37.zip:/miniconda3/lib/python3.7:/miniconda3/lib/python3.7/lib-dynload:/miniconda3/lib/python3.7/site-packages\n",
      "\u001b[0m\n",
      "\u001b[34mInvoking script with the following command:\n",
      "\u001b[0m\n",
      "\u001b[34m/miniconda3/bin/python train_random_forest.py --n-folds 5 --n-iter 20\n",
      "\n",
      "\u001b[0m\n"
     ]
    }
   ],
   "source": [
    "%%time\n",
    "\n",
    "# Train the estimator on S3 training data\n",
    "sklearn_random_forest.fit({\"train\": train_input, \"validation\": val_input})"
   ]
  },
  {
   "cell_type": "markdown",
   "metadata": {},
   "source": [
    "### Deploy"
   ]
  },
  {
   "cell_type": "code",
   "execution_count": null,
   "metadata": {},
   "outputs": [],
   "source": [
    "%%time\n",
    "\n",
    "# deploy the model to create a predictor\n",
    "predictor_random_forest = sklearn_random_forest.deploy(initial_instance_count=1, instance_type='ml.t2.medium')"
   ]
  },
  {
   "cell_type": "markdown",
   "metadata": {},
   "source": [
    "### Evaluate"
   ]
  },
  {
   "cell_type": "code",
   "execution_count": null,
   "metadata": {},
   "outputs": [],
   "source": [
    "# compute MSE\n",
    "from sklearn.metrics import mean_squared_error\n",
    "\n",
    "test_y_preds = predictor_random_forest.predict(test_x.values)\n",
    "rmse = mean_squared_error(test_y_true, test_y_preds, squared=False)\n",
    "print(f\"RMSE: {rmse}\")"
   ]
  },
  {
   "cell_type": "code",
   "execution_count": null,
   "metadata": {},
   "outputs": [],
   "source": [
    "# plot some results\n",
    "fig = plt.figure(figsize=(16, 8))\n",
    "plt.plot(test_y_preds[:NUM_SAMPLES_TEST_VISUALIZATION])\n",
    "plt.plot(test_y_true[:NUM_SAMPLES_TEST_VISUALIZATION])\n",
    "plt.legend((\"predictions\", \"ground_truth\"))\n",
    "plt.ylabel(\"Weekly Sales\")\n",
    "plt.xlabel(\"Num Sample\")\n",
    "plt.show()"
   ]
  },
  {
   "cell_type": "markdown",
   "metadata": {},
   "source": [
    "## Train XGBoost Regressor"
   ]
  },
  {
   "cell_type": "code",
   "execution_count": 15,
   "metadata": {},
   "outputs": [],
   "source": [
    "container = sagemaker.image_uris.retrieve('xgboost', region=region, version=\"1.0-1\")\n",
    "\n",
    "prefix = \"retail_data_analytics\"\n",
    "\n",
    "xgb = sagemaker.estimator.Estimator(container,\n",
    "                                    role, \n",
    "                                    instance_count=1, \n",
    "                                    instance_type='ml.m4.xlarge',\n",
    "                                    output_path='s3://{}/{}/output'.format(bucket, prefix),\n",
    "                                    sagemaker_session=sagemaker_session)"
   ]
  },
  {
   "cell_type": "code",
   "execution_count": 23,
   "metadata": {},
   "outputs": [],
   "source": [
    "# let's use the Hyperparameter Tuner\n",
    "from sagemaker.tuner import IntegerParameter\n",
    "from sagemaker.tuner import ContinuousParameter\n",
    "from sagemaker.tuner import HyperparameterTuner\n",
    "\n",
    "# Define exploration boundaries (default suggested values from Amazon SageMaker Documentation)\n",
    "hyperparameter_ranges = {\n",
    "    'alpha': ContinuousParameter(0, 1000, scaling_type=\"Auto\"),\n",
    "    'eta': ContinuousParameter(0.1, 0.5, scaling_type='Logarithmic'),\n",
    "    'gamma':ContinuousParameter(0, 5, scaling_type='Auto'),\n",
    "    'lambda': ContinuousParameter(0,100,scaling_type='Auto'),\n",
    "    'max_delta_step': IntegerParameter(0,10,scaling_type='Auto'),\n",
    "    'max_depth': IntegerParameter(0,10,scaling_type='Auto'),\n",
    "    'min_child_weight': ContinuousParameter(0,10,scaling_type='Auto'),\n",
    "    'subsample': ContinuousParameter(0.5,1,scaling_type='Logarithmic')\n",
    "}\n"
   ]
  },
  {
   "cell_type": "code",
   "execution_count": 37,
   "metadata": {},
   "outputs": [],
   "source": [
    "tuner_log = HyperparameterTuner(xgb,\n",
    "                                objective_metric_name=\"validation:rmse\",\n",
    "                                objective_type='Minimize',\n",
    "                                hyperparameter_ranges=hyperparameter_ranges,\n",
    "                                max_jobs=20,\n",
    "                                max_parallel_jobs=2,\n",
    "                                strategy='Bayesian')"
   ]
  },
  {
   "cell_type": "markdown",
   "metadata": {},
   "source": [
    "### Train"
   ]
  },
  {
   "cell_type": "code",
   "execution_count": 38,
   "metadata": {},
   "outputs": [
    {
     "name": "stdout",
     "output_type": "stream",
     "text": [
      ".............................................................................................................."
     ]
    },
    {
     "ename": "KeyboardInterrupt",
     "evalue": "",
     "output_type": "error",
     "traceback": [
      "\u001b[0;31m---------------------------------------------------------------------------\u001b[0m",
      "\u001b[0;31mKeyboardInterrupt\u001b[0m                         Traceback (most recent call last)",
      "\u001b[0;32m<ipython-input-38-74878da5d055>\u001b[0m in \u001b[0;36m<module>\u001b[0;34m\u001b[0m\n\u001b[1;32m      1\u001b[0m \u001b[0;31m## Starts the hyperparameter tuning job\u001b[0m\u001b[0;34m\u001b[0m\u001b[0;34m\u001b[0m\u001b[0;34m\u001b[0m\u001b[0m\n\u001b[0;32m----> 2\u001b[0;31m \u001b[0mtuner_log\u001b[0m\u001b[0;34m.\u001b[0m\u001b[0mfit\u001b[0m\u001b[0;34m(\u001b[0m\u001b[0;34m{\u001b[0m\u001b[0;34m\"train\"\u001b[0m\u001b[0;34m:\u001b[0m \u001b[0mtrain_input\u001b[0m\u001b[0;34m}\u001b[0m\u001b[0;34m,\u001b[0m \u001b[0minclude_cls_metadata\u001b[0m\u001b[0;34m=\u001b[0m\u001b[0;32mFalse\u001b[0m\u001b[0;34m)\u001b[0m\u001b[0;34m\u001b[0m\u001b[0;34m\u001b[0m\u001b[0m\n\u001b[0m",
      "\u001b[0;32m~/anaconda3/envs/amazonei_mxnet_p36/lib/python3.6/site-packages/sagemaker/tuner.py\u001b[0m in \u001b[0;36mfit\u001b[0;34m(self, inputs, job_name, include_cls_metadata, estimator_kwargs, wait, **kwargs)\u001b[0m\n\u001b[1;32m    447\u001b[0m \u001b[0;34m\u001b[0m\u001b[0m\n\u001b[1;32m    448\u001b[0m         \u001b[0;32mif\u001b[0m \u001b[0mwait\u001b[0m\u001b[0;34m:\u001b[0m\u001b[0;34m\u001b[0m\u001b[0;34m\u001b[0m\u001b[0m\n\u001b[0;32m--> 449\u001b[0;31m             \u001b[0mself\u001b[0m\u001b[0;34m.\u001b[0m\u001b[0mlatest_tuning_job\u001b[0m\u001b[0;34m.\u001b[0m\u001b[0mwait\u001b[0m\u001b[0;34m(\u001b[0m\u001b[0;34m)\u001b[0m\u001b[0;34m\u001b[0m\u001b[0;34m\u001b[0m\u001b[0m\n\u001b[0m\u001b[1;32m    450\u001b[0m \u001b[0;34m\u001b[0m\u001b[0m\n\u001b[1;32m    451\u001b[0m     \u001b[0;32mdef\u001b[0m \u001b[0m_fit_with_estimator\u001b[0m\u001b[0;34m(\u001b[0m\u001b[0mself\u001b[0m\u001b[0;34m,\u001b[0m \u001b[0minputs\u001b[0m\u001b[0;34m,\u001b[0m \u001b[0mjob_name\u001b[0m\u001b[0;34m,\u001b[0m \u001b[0minclude_cls_metadata\u001b[0m\u001b[0;34m,\u001b[0m \u001b[0;34m**\u001b[0m\u001b[0mkwargs\u001b[0m\u001b[0;34m)\u001b[0m\u001b[0;34m:\u001b[0m\u001b[0;34m\u001b[0m\u001b[0;34m\u001b[0m\u001b[0m\n",
      "\u001b[0;32m~/anaconda3/envs/amazonei_mxnet_p36/lib/python3.6/site-packages/sagemaker/tuner.py\u001b[0m in \u001b[0;36mwait\u001b[0;34m(self)\u001b[0m\n\u001b[1;32m   1583\u001b[0m     \u001b[0mby\u001b[0m \u001b[0maddition\u001b[0m \u001b[0mof\u001b[0m \u001b[0mwarm\u001b[0m \u001b[0mstart\u001b[0m \u001b[0mconfiguration\u001b[0m \u001b[0;32mwith\u001b[0m \u001b[0mthe\u001b[0m \u001b[0mtype\u001b[0m \u001b[0;32mas\u001b[0m\u001b[0;34m\u001b[0m\u001b[0;34m\u001b[0m\u001b[0m\n\u001b[1;32m   1584\u001b[0m     \u001b[0;34m\"IdenticalDataAndAlgorithm\"\u001b[0m \u001b[0;32mand\u001b[0m\u001b[0;31m \u001b[0m\u001b[0;31m`\u001b[0m\u001b[0;31m`\u001b[0m\u001b[0mparents\u001b[0m\u001b[0;31m`\u001b[0m\u001b[0;31m`\u001b[0m \u001b[0;32mas\u001b[0m \u001b[0mthe\u001b[0m \u001b[0munion\u001b[0m \u001b[0mof\u001b[0m \u001b[0mprovided\u001b[0m \u001b[0mlist\u001b[0m\u001b[0;34m\u001b[0m\u001b[0;34m\u001b[0m\u001b[0m\n\u001b[0;32m-> 1585\u001b[0;31m     \u001b[0mof\u001b[0m\u001b[0;31m \u001b[0m\u001b[0;31m`\u001b[0m\u001b[0;31m`\u001b[0m\u001b[0madditional_parents\u001b[0m\u001b[0;31m`\u001b[0m\u001b[0;31m`\u001b[0m \u001b[0;32mand\u001b[0m \u001b[0mthe\u001b[0m\u001b[0;31m \u001b[0m\u001b[0;31m`\u001b[0m\u001b[0;31m`\u001b[0m\u001b[0mparent\u001b[0m\u001b[0;31m`\u001b[0m\u001b[0;31m`\u001b[0m\u001b[0;34m.\u001b[0m\u001b[0;34m\u001b[0m\u001b[0;34m\u001b[0m\u001b[0m\n\u001b[0m\u001b[1;32m   1586\u001b[0m \u001b[0;34m\u001b[0m\u001b[0m\n\u001b[1;32m   1587\u001b[0m     \u001b[0mArgs\u001b[0m\u001b[0;34m:\u001b[0m\u001b[0;34m\u001b[0m\u001b[0;34m\u001b[0m\u001b[0m\n",
      "\u001b[0;32m~/anaconda3/envs/amazonei_mxnet_p36/lib/python3.6/site-packages/sagemaker/session.py\u001b[0m in \u001b[0;36mwait_for_tuning_job\u001b[0;34m(self, job, poll)\u001b[0m\n\u001b[1;32m   3181\u001b[0m             \u001b[0mClientError\u001b[0m\u001b[0;34m:\u001b[0m \u001b[0mIf\u001b[0m \u001b[0man\u001b[0m \u001b[0merror\u001b[0m \u001b[0moccurs\u001b[0m \u001b[0;32mwhile\u001b[0m \u001b[0mtrying\u001b[0m \u001b[0mto\u001b[0m \u001b[0mstop\u001b[0m \u001b[0mthe\u001b[0m \u001b[0mbatch\u001b[0m \u001b[0mtransform\u001b[0m \u001b[0mjob\u001b[0m\u001b[0;34m.\u001b[0m\u001b[0;34m\u001b[0m\u001b[0;34m\u001b[0m\u001b[0m\n\u001b[1;32m   3182\u001b[0m         \"\"\"\n\u001b[0;32m-> 3183\u001b[0;31m         \u001b[0;32mtry\u001b[0m\u001b[0;34m:\u001b[0m\u001b[0;34m\u001b[0m\u001b[0;34m\u001b[0m\u001b[0m\n\u001b[0m\u001b[1;32m   3184\u001b[0m             \u001b[0mLOGGER\u001b[0m\u001b[0;34m.\u001b[0m\u001b[0minfo\u001b[0m\u001b[0;34m(\u001b[0m\u001b[0;34m\"Stopping transform job: %s\"\u001b[0m\u001b[0;34m,\u001b[0m \u001b[0mname\u001b[0m\u001b[0;34m)\u001b[0m\u001b[0;34m\u001b[0m\u001b[0;34m\u001b[0m\u001b[0m\n\u001b[1;32m   3185\u001b[0m             \u001b[0mself\u001b[0m\u001b[0;34m.\u001b[0m\u001b[0msagemaker_client\u001b[0m\u001b[0;34m.\u001b[0m\u001b[0mstop_transform_job\u001b[0m\u001b[0;34m(\u001b[0m\u001b[0mTransformJobName\u001b[0m\u001b[0;34m=\u001b[0m\u001b[0mname\u001b[0m\u001b[0;34m)\u001b[0m\u001b[0;34m\u001b[0m\u001b[0;34m\u001b[0m\u001b[0m\n",
      "\u001b[0;32m~/anaconda3/envs/amazonei_mxnet_p36/lib/python3.6/site-packages/sagemaker/session.py\u001b[0m in \u001b[0;36m_wait_until\u001b[0;34m(callable_fn, poll)\u001b[0m\n\u001b[1;32m   4427\u001b[0m             \u001b[0;32mreturn\u001b[0m \u001b[0;32mTrue\u001b[0m\u001b[0;34m\u001b[0m\u001b[0;34m\u001b[0m\u001b[0m\n\u001b[1;32m   4428\u001b[0m \u001b[0;34m\u001b[0m\u001b[0m\n\u001b[0;32m-> 4429\u001b[0;31m     \u001b[0;32mreturn\u001b[0m \u001b[0;32mFalse\u001b[0m\u001b[0;34m\u001b[0m\u001b[0;34m\u001b[0m\u001b[0m\n\u001b[0m\u001b[1;32m   4430\u001b[0m \u001b[0;34m\u001b[0m\u001b[0m\n\u001b[1;32m   4431\u001b[0m \u001b[0;34m\u001b[0m\u001b[0m\n",
      "\u001b[0;31mKeyboardInterrupt\u001b[0m: "
     ]
    }
   ],
   "source": [
    "## Starts the hyperparameter tuning job\n",
    "tuner_log.fit({\"train\": train_input, \"validation\": val_input}, include_cls_metadata=False)"
   ]
  },
  {
   "cell_type": "markdown",
   "metadata": {},
   "source": [
    "### Deploy"
   ]
  },
  {
   "cell_type": "code",
   "execution_count": null,
   "metadata": {},
   "outputs": [],
   "source": [
    "# get best estimator\n",
    "xgboost_model = tuner_log.best_estimator()"
   ]
  },
  {
   "cell_type": "code",
   "execution_count": null,
   "metadata": {},
   "outputs": [],
   "source": [
    "%%time\n",
    "\n",
    "# deploy the model to create a predictor\n",
    "predictor_xgboost = xgboost_model.deploy(initial_instance_count=1, instance_type='ml.t2.medium')"
   ]
  },
  {
   "cell_type": "markdown",
   "metadata": {},
   "source": [
    "### Evaluate"
   ]
  },
  {
   "cell_type": "markdown",
   "metadata": {},
   "source": [
    "## Clean Up Resources"
   ]
  },
  {
   "cell_type": "code",
   "execution_count": null,
   "metadata": {},
   "outputs": [],
   "source": [
    "predictor_linear_regression.delete_endpoint()"
   ]
  },
  {
   "cell_type": "code",
   "execution_count": null,
   "metadata": {},
   "outputs": [],
   "source": [
    "predictor_linear_regression_standardized.delete_endpoint()"
   ]
  },
  {
   "cell_type": "code",
   "execution_count": null,
   "metadata": {},
   "outputs": [],
   "source": [
    "predictor_decision_tree.delete_endpoint()"
   ]
  },
  {
   "cell_type": "code",
   "execution_count": null,
   "metadata": {},
   "outputs": [],
   "source": [
    "predictor_random_forest.delete_endpoint()"
   ]
  },
  {
   "cell_type": "code",
   "execution_count": null,
   "metadata": {},
   "outputs": [],
   "source": [
    "predictor_xgboost.delete_endpoint()"
   ]
  },
  {
   "cell_type": "code",
   "execution_count": 39,
   "metadata": {},
   "outputs": [
    {
     "data": {
      "text/plain": [
       "[{'ResponseMetadata': {'RequestId': '1K4M8QDP3S1ZFW2J',\n",
       "   'HostId': 'WKATjjHWRBQLQVWKy5kVTTa4KXMT8ySC6wpvdvrnAElJbgU566dl68Rj6wblikIul/8ebd4TGgQ=',\n",
       "   'HTTPStatusCode': 200,\n",
       "   'HTTPHeaders': {'x-amz-id-2': 'WKATjjHWRBQLQVWKy5kVTTa4KXMT8ySC6wpvdvrnAElJbgU566dl68Rj6wblikIul/8ebd4TGgQ=',\n",
       "    'x-amz-request-id': '1K4M8QDP3S1ZFW2J',\n",
       "    'date': 'Tue, 05 Jan 2021 16:25:18 GMT',\n",
       "    'connection': 'close',\n",
       "    'content-type': 'application/xml',\n",
       "    'transfer-encoding': 'chunked',\n",
       "    'server': 'AmazonS3'},\n",
       "   'RetryAttempts': 0},\n",
       "  'Deleted': [{'Key': 'sagemaker-scikit-learn-2021-01-05-13-12-46-654/rule-output/ProfilerReport-1609852366/profiler-output/profiler-reports/LowGPUUtilization.json'},\n",
       "   {'Key': 'sagemaker-scikit-learn-2021-01-05-12-39-29-619/profiler-output/framework/training_job_end.ts'},\n",
       "   {'Key': 'sagemaker-scikit-learn-2021-01-05-12-35-04-065/profiler-output/system/incremental/2021010512/1609850400.algo-1.json'},\n",
       "   {'Key': 'sagemaker-scikit-learn-2021-01-05-13-12-46-654/profiler-output/system/incremental/2021010514/1609856100.algo-1.json'},\n",
       "   {'Key': 'sagemaker-scikit-learn-2021-01-05-12-35-04-065/profiler-output/system/incremental/2021010512/1609850220.algo-1.json'},\n",
       "   {'Key': 'retail_analytics_data/test.csv'},\n",
       "   {'Key': 'sagemaker-scikit-learn-2021-01-05-13-12-46-654/profiler-output/system/incremental/2021010513/1609854000.algo-1.json'},\n",
       "   {'Key': 'sagemaker-scikit-learn-2021-01-05-12-19-26-029/rule-output/ProfilerReport-1609849166/profiler-output/profiler-reports/StepOutlier.json'},\n",
       "   {'Key': 'sagemaker-scikit-learn-2021-01-05-13-12-46-654/profiler-output/system/incremental/2021010514/1609855620.algo-1.json'},\n",
       "   {'Key': 'sagemaker-scikit-learn-2021-01-05-13-12-46-654/profiler-output/system/incremental/2021010514/1609856520.algo-1.json'},\n",
       "   {'Key': 'sagemaker-scikit-learn-2021-01-05-13-12-46-654/rule-output/ProfilerReport-1609852366/profiler-output/profiler-reports/Dataloader.json'},\n",
       "   {'Key': 'sagemaker-scikit-learn-2021-01-05-13-12-46-654/profiler-output/system/incremental/2021010513/1609855020.algo-1.json'},\n",
       "   {'Key': 'sagemaker-scikit-learn-2021-01-05-13-12-46-654/profiler-output/system/incremental/2021010514/1609858200.algo-1.json'},\n",
       "   {'Key': 'sagemaker-scikit-learn-2021-01-05-12-11-17-679/rule-output/ProfilerReport-1609848677/profiler-output/profiler-reports/StepOutlier.json'},\n",
       "   {'Key': 'sagemaker-scikit-learn-2021-01-05-13-12-46-654/profiler-output/system/incremental/2021010514/1609858140.algo-1.json'},\n",
       "   {'Key': 'sagemaker-scikit-learn-2021-01-05-13-12-46-654/profiler-output/system/incremental/2021010514/1609857420.algo-1.json'},\n",
       "   {'Key': 'sagemaker-scikit-learn-2021-01-05-13-12-46-654/profiler-output/system/incremental/2021010514/1609856160.algo-1.json'},\n",
       "   {'Key': 'sagemaker-scikit-learn-2021-01-05-13-12-46-654/profiler-output/system/incremental/2021010513/1609853820.algo-1.json'},\n",
       "   {'Key': 'sagemaker-scikit-learn-2021-01-05-13-12-46-654/profiler-output/system/incremental/2021010513/1609854060.algo-1.json'},\n",
       "   {'Key': 'retail_analytics_data/train.csv'},\n",
       "   {'Key': 'sagemaker-scikit-learn-2021-01-05-12-39-29-619/rule-output/ProfilerReport-1609850369/profiler-output/profiler-report.html'},\n",
       "   {'Key': 'sagemaker-scikit-learn-2021-01-05-13-12-46-654/profiler-output/system/incremental/2021010515/1609859460.algo-1.json'},\n",
       "   {'Key': 'sagemaker-scikit-learn-2021-01-05-12-19-26-029/profiler-output/system/incremental/2021010512/1609849320.algo-1.json'},\n",
       "   {'Key': 'sagemaker-scikit-learn-2021-01-05-13-12-46-654/profiler-output/system/incremental/2021010513/1609852500.algo-1.json'},\n",
       "   {'Key': 'sagemaker-scikit-learn-2021-01-05-13-12-46-654/profiler-output/system/incremental/2021010514/1609858560.algo-1.json'},\n",
       "   {'Key': 'sagemaker-scikit-learn-2021-01-05-13-12-46-654/profiler-output/system/incremental/2021010514/1609855800.algo-1.json'},\n",
       "   {'Key': 'sagemaker-scikit-learn-2021-01-05-12-19-26-029/rule-output/ProfilerReport-1609849166/profiler-output/profiler-reports/LowGPUUtilization.json'},\n",
       "   {'Key': 'sagemaker-scikit-learn-2021-01-05-13-12-46-654/profiler-output/system/incremental/2021010513/1609854360.algo-1.json'},\n",
       "   {'Key': 'sagemaker-scikit-learn-2021-01-05-13-12-46-654/profiler-output/system/incremental/2021010513/1609853760.algo-1.json'},\n",
       "   {'Key': 'sagemaker-scikit-learn-2021-01-05-13-12-46-654/profiler-output/system/incremental/2021010514/1609855440.algo-1.json'},\n",
       "   {'Key': 'sagemaker-scikit-learn-2021-01-05-12-35-04-065/rule-output/ProfilerReport-1609850104/profiler-output/profiler-reports/BatchSize.json'},\n",
       "   {'Key': 'sagemaker-scikit-learn-2021-01-05-12-35-04-065/profiler-output/system/training_job_end.ts'},\n",
       "   {'Key': 'sagemaker-scikit-learn-2021-01-05-12-35-04-065/debug-output/training_job_end.ts'},\n",
       "   {'Key': 'sagemaker-scikit-learn-2021-01-05-12-35-04-065/rule-output/ProfilerReport-1609850104/profiler-output/profiler-reports/LowGPUUtilization.json'},\n",
       "   {'Key': 'sagemaker-scikit-learn-2021-01-05-13-12-46-654/profiler-output/system/incremental/2021010514/1609857720.algo-1.json'},\n",
       "   {'Key': 'sagemaker-scikit-learn-2021-01-05-13-12-46-654/profiler-output/system/incremental/2021010515/1609859820.algo-1.json'},\n",
       "   {'Key': 'sagemaker-scikit-learn-2021-01-05-13-12-46-654/rule-output/ProfilerReport-1609852366/profiler-output/profiler-report.html'},\n",
       "   {'Key': 'sagemaker-scikit-learn-2021-01-05-13-12-46-654/profiler-output/system/incremental/2021010513/1609854420.algo-1.json'},\n",
       "   {'Key': 'sagemaker-scikit-learn-2021-01-05-13-12-46-654/profiler-output/system/incremental/2021010514/1609856220.algo-1.json'},\n",
       "   {'Key': 'sagemaker-scikit-learn-2021-01-05-12-11-17-679/rule-output/ProfilerReport-1609848677/profiler-output/profiler-reports/BatchSize.json'},\n",
       "   {'Key': 'sagemaker-scikit-learn-2021-01-05-12-35-04-065/rule-output/ProfilerReport-1609850104/profiler-output/profiler-report.html'},\n",
       "   {'Key': 'sagemaker-scikit-learn-2021-01-05-13-12-46-654/profiler-output/system/incremental/2021010513/1609854120.algo-1.json'},\n",
       "   {'Key': 'sagemaker-scikit-learn-2021-01-05-13-07-15-523/profiler-output/system/incremental/2021010513/1609852200.algo-1.json'},\n",
       "   {'Key': 'sagemaker-scikit-learn-2021-01-05-13-12-46-654/profiler-output/system/incremental/2021010513/1609854840.algo-1.json'},\n",
       "   {'Key': 'sagemaker-scikit-learn-2021-01-05-13-12-46-654/profiler-output/system/incremental/2021010514/1609857840.algo-1.json'},\n",
       "   {'Key': 'sagemaker-scikit-learn-2021-01-05-13-12-46-654/profiler-output/system/incremental/2021010514/1609858380.algo-1.json'},\n",
       "   {'Key': 'sagemaker-scikit-learn-2021-01-05-13-12-46-654/profiler-output/system/incremental/2021010515/1609859220.algo-1.json'},\n",
       "   {'Key': 'sagemaker-scikit-learn-2021-01-05-13-12-46-654/rule-output/ProfilerReport-1609852366/profiler-output/profiler-reports/GPUMemoryIncrease.json'},\n",
       "   {'Key': 'sagemaker-scikit-learn-2021-01-05-12-11-17-679/profiler-output/system/incremental/2021010512/1609848840.algo-1.json'},\n",
       "   {'Key': 'sagemaker-scikit-learn-2021-01-05-13-12-46-654/profiler-output/system/incremental/2021010514/1609857480.algo-1.json'},\n",
       "   {'Key': 'sagemaker-scikit-learn-2021-01-05-13-12-46-654/profiler-output/system/incremental/2021010513/1609852680.algo-1.json'},\n",
       "   {'Key': 'sagemaker-scikit-learn-2021-01-05-12-35-04-065/rule-output/ProfilerReport-1609850104/profiler-output/profiler-reports/OverallSystemUsage.json'},\n",
       "   {'Key': 'sagemaker-scikit-learn-2021-01-05-12-11-17-679/rule-output/ProfilerReport-1609848677/profiler-output/profiler-reports/Dataloader.json'},\n",
       "   {'Key': 'sagemaker-scikit-learn-2021-01-05-13-12-46-654/profiler-output/system/incremental/2021010515/1609859160.algo-1.json'},\n",
       "   {'Key': 'sagemaker-scikit-learn-2021-01-05-13-12-46-654/profiler-output/system/incremental/2021010514/1609858020.algo-1.json'},\n",
       "   {'Key': 'sagemaker-scikit-learn-2021-01-05-13-12-46-654/profiler-output/system/incremental/2021010515/1609859940.algo-1.json'},\n",
       "   {'Key': 'sagemaker-scikit-learn-2021-01-05-12-19-26-029/rule-output/ProfilerReport-1609849166/profiler-output/profiler-reports/GPUMemoryIncrease.json'},\n",
       "   {'Key': 'sagemaker-scikit-learn-2021-01-05-13-12-46-654/profiler-output/system/incremental/2021010513/1609853100.algo-1.json'},\n",
       "   {'Key': 'sagemaker-scikit-learn-2021-01-05-13-12-46-654/profiler-output/system/incremental/2021010513/1609854180.algo-1.json'},\n",
       "   {'Key': 'sagemaker-scikit-learn-2021-01-05-13-12-46-654/profiler-output/system/incremental/2021010513/1609853280.algo-1.json'},\n",
       "   {'Key': 'sagemaker-scikit-learn-2021-01-05-12-35-04-065/rule-output/ProfilerReport-1609850104/profiler-output/profiler-reports/CPUBottleneck.json'},\n",
       "   {'Key': 'sagemaker-scikit-learn-2021-01-05-13-12-46-654/profiler-output/system/incremental/2021010514/1609855560.algo-1.json'},\n",
       "   {'Key': 'sagemaker-scikit-learn-2021-01-05-12-35-04-065/profiler-output/system/incremental/2021010512/1609850340.algo-1.json'},\n",
       "   {'Key': 'sagemaker-scikit-learn-2021-01-05-12-35-04-065/profiler-output/system/incremental/2021010512/1609850760.algo-1.json'},\n",
       "   {'Key': 'sagemaker-scikit-learn-2021-01-05-12-19-26-029/rule-output/ProfilerReport-1609849166/profiler-output/profiler-report.html'},\n",
       "   {'Key': 'sagemaker-scikit-learn-2021-01-05-13-12-46-654/profiler-output/system/incremental/2021010513/1609852800.algo-1.json'},\n",
       "   {'Key': 'sagemaker-scikit-learn-2021-01-05-13-12-46-654/profiler-output/system/incremental/2021010515/1609859760.algo-1.json'},\n",
       "   {'Key': 'sagemaker-scikit-learn-2021-01-05-12-39-29-619/debug-output/training_job_end.ts'},\n",
       "   {'Key': 'sagemaker-scikit-learn-2021-01-05-13-12-46-654/profiler-output/system/incremental/2021010514/1609857300.algo-1.json'},\n",
       "   {'Key': 'sagemaker-scikit-learn-2021-01-05-12-19-26-029/rule-output/ProfilerReport-1609849166/profiler-output/profiler-reports/BatchSize.json'},\n",
       "   {'Key': 'sagemaker-scikit-learn-2021-01-05-12-39-29-619/rule-output/ProfilerReport-1609850369/profiler-output/profiler-reports/OverallFrameworkMetrics.json'},\n",
       "   {'Key': 'sagemaker-scikit-learn-2021-01-05-13-12-46-654/profiler-output/system/incremental/2021010513/1609854900.algo-1.json'},\n",
       "   {'Key': 'sagemaker-scikit-learn-2021-01-05-13-12-46-654/profiler-output/system/incremental/2021010515/1609859340.algo-1.json'},\n",
       "   {'Key': 'sagemaker-scikit-learn-2021-01-05-13-12-46-654/profiler-output/system/incremental/2021010514/1609857180.algo-1.json'},\n",
       "   {'Key': 'sagemaker-scikit-learn-2021-01-05-13-12-46-654/profiler-output/system/incremental/2021010513/1609853700.algo-1.json'},\n",
       "   {'Key': 'sagemaker-scikit-learn-2021-01-05-13-12-46-654/profiler-output/system/incremental/2021010513/1609854540.algo-1.json'},\n",
       "   {'Key': 'sagemaker-scikit-learn-2021-01-05-13-12-46-654/profiler-output/system/incremental/2021010514/1609857240.algo-1.json'},\n",
       "   {'Key': 'sagemaker-scikit-learn-2021-01-05-13-12-46-654/profiler-output/system/incremental/2021010515/1609859040.algo-1.json'},\n",
       "   {'Key': 'sagemaker-scikit-learn-2021-01-05-12-35-04-065/profiler-output/system/incremental/2021010512/1609850460.algo-1.json'},\n",
       "   {'Key': 'sagemaker-scikit-learn-2021-01-05-12-11-17-679/rule-output/ProfilerReport-1609848677/profiler-output/profiler-report.html'},\n",
       "   {'Key': 'sagemaker-scikit-learn-2021-01-05-12-39-29-619/rule-output/ProfilerReport-1609850369/profiler-output/profiler-reports/IOBottleneck.json'},\n",
       "   {'Key': 'sagemaker-scikit-learn-2021-01-05-13-12-46-654/profiler-output/system/incremental/2021010515/1609859640.algo-1.json'},\n",
       "   {'Key': 'sagemaker-scikit-learn-2021-01-05-13-12-46-654/profiler-output/system/incremental/2021010514/1609858440.algo-1.json'},\n",
       "   {'Key': 'sagemaker-scikit-learn-2021-01-05-12-35-04-065/profiler-output/framework/training_job_end.ts'},\n",
       "   {'Key': 'sagemaker-scikit-learn-2021-01-05-12-39-29-619/profiler-output/system/incremental/2021010512/1609850640.algo-1.json'},\n",
       "   {'Key': 'sagemaker-scikit-learn-2021-01-05-12-19-26-029/rule-output/ProfilerReport-1609849166/profiler-output/profiler-reports/OverallFrameworkMetrics.json'},\n",
       "   {'Key': 'sagemaker-scikit-learn-2021-01-05-13-12-46-654/profiler-output/system/incremental/2021010514/1609856340.algo-1.json'},\n",
       "   {'Key': 'sagemaker-scikit-learn-2021-01-05-12-11-17-679/rule-output/ProfilerReport-1609848677/profiler-output/profiler-reports/MaxInitializationTime.json'},\n",
       "   {'Key': 'sagemaker-scikit-learn-2021-01-05-12-39-29-619/rule-output/ProfilerReport-1609850369/profiler-output/profiler-reports/BatchSize.json'},\n",
       "   {'Key': 'sagemaker-scikit-learn-2021-01-05-12-39-29-619/profiler-output/system/incremental/2021010512/1609850700.algo-1.json'},\n",
       "   {'Key': 'sagemaker-scikit-learn-2021-01-05-12-39-29-619/rule-output/ProfilerReport-1609850369/profiler-output/profiler-report.ipynb'},\n",
       "   {'Key': 'sagemaker-scikit-learn-2021-01-05-12-35-04-065/rule-output/ProfilerReport-1609850104/profiler-output/profiler-reports/LoadBalancing.json'},\n",
       "   {'Key': 'sagemaker-scikit-learn-2021-01-05-12-35-04-065/output/model.tar.gz'},\n",
       "   {'Key': 'sagemaker-scikit-learn-2021-01-05-13-12-46-654/profiler-output/system/incremental/2021010514/1609855920.algo-1.json'},\n",
       "   {'Key': 'sagemaker-scikit-learn-2021-01-05-12-11-17-679/rule-output/ProfilerReport-1609848677/profiler-output/profiler-reports/OverallSystemUsage.json'},\n",
       "   {'Key': 'sagemaker-scikit-learn-2021-01-05-12-39-29-619/rule-output/ProfilerReport-1609850369/profiler-output/profiler-reports/StepOutlier.json'},\n",
       "   {'Key': 'sagemaker-scikit-learn-2021-01-05-11-59-15-258/profiler-output/system/incremental/2021010512/1609848060.algo-1.json'},\n",
       "   {'Key': 'sagemaker-scikit-learn-2021-01-05-11-59-15-258/source/sourcedir.tar.gz'},\n",
       "   {'Key': 'sagemaker-scikit-learn-2021-01-05-12-11-17-679/rule-output/ProfilerReport-1609848677/profiler-output/profiler-reports/CPUBottleneck.json'},\n",
       "   {'Key': 'sagemaker-scikit-learn-2021-01-05-12-35-04-065/profiler-output/system/incremental/2021010512/1609851000.algo-1.json'},\n",
       "   {'Key': 'sagemaker-scikit-learn-2021-01-05-13-12-46-654/profiler-output/system/incremental/2021010514/1609857900.algo-1.json'},\n",
       "   {'Key': 'sagemaker-scikit-learn-2021-01-05-12-19-26-029/rule-output/ProfilerReport-1609849166/profiler-output/profiler-reports/OverallSystemUsage.json'},\n",
       "   {'Key': 'sagemaker-scikit-learn-2021-01-05-13-12-46-654/profiler-output/system/incremental/2021010514/1609857060.algo-1.json'},\n",
       "   {'Key': 'sagemaker-scikit-learn-2021-01-05-13-12-46-654/profiler-output/system/incremental/2021010513/1609854720.algo-1.json'},\n",
       "   {'Key': 'sagemaker-scikit-learn-2021-01-05-13-12-46-654/profiler-output/system/incremental/2021010514/1609856880.algo-1.json'},\n",
       "   {'Key': 'sagemaker-scikit-learn-2021-01-05-13-12-46-654/profiler-output/system/incremental/2021010515/1609858980.algo-1.json'},\n",
       "   {'Key': 'sagemaker-scikit-learn-2021-01-05-13-12-46-654/profiler-output/system/incremental/2021010513/1609854780.algo-1.json'},\n",
       "   {'Key': 'sagemaker-scikit-learn-2021-01-05-13-12-46-654/profiler-output/system/incremental/2021010513/1609852560.algo-1.json'},\n",
       "   {'Key': 'sagemaker-scikit-learn-2021-01-05-12-39-29-619/rule-output/ProfilerReport-1609850369/profiler-output/profiler-reports/LoadBalancing.json'},\n",
       "   {'Key': 'sagemaker-scikit-learn-2021-01-05-13-12-46-654/profiler-output/system/incremental/2021010514/1609856280.algo-1.json'},\n",
       "   {'Key': 'sagemaker-scikit-learn-2021-01-05-12-39-29-619/rule-output/ProfilerReport-1609850369/profiler-output/profiler-reports/OverallSystemUsage.json'},\n",
       "   {'Key': 'sagemaker-scikit-learn-2021-01-05-12-35-04-065/rule-output/ProfilerReport-1609850104/profiler-output/profiler-report.ipynb'},\n",
       "   {'Key': 'sagemaker-scikit-learn-2021-01-05-13-12-46-654/rule-output/ProfilerReport-1609852366/profiler-output/profiler-reports/CPUBottleneck.json'},\n",
       "   {'Key': 'sagemaker-scikit-learn-2021-01-05-13-12-46-654/profiler-output/system/incremental/2021010513/1609854660.algo-1.json'},\n",
       "   {'Key': 'sagemaker-scikit-learn-2021-01-05-13-07-15-523/source/sourcedir.tar.gz'},\n",
       "   {'Key': 'sagemaker-scikit-learn-2021-01-05-13-12-46-654/profiler-output/system/incremental/2021010514/1609855260.algo-1.json'},\n",
       "   {'Key': 'sagemaker-scikit-learn-2021-01-05-13-12-46-654/profiler-output/system/incremental/2021010514/1609856640.algo-1.json'},\n",
       "   {'Key': 'sagemaker-scikit-learn-2021-01-05-13-12-46-654/profiler-output/system/incremental/2021010513/1609852980.algo-1.json'},\n",
       "   {'Key': 'sagemaker-scikit-learn-2021-01-05-13-12-46-654/profiler-output/system/incremental/2021010515/1609860120.algo-1.json'},\n",
       "   {'Key': 'sagemaker-scikit-learn-2021-01-05-13-12-46-654/profiler-output/system/incremental/2021010514/1609855980.algo-1.json'},\n",
       "   {'Key': 'sagemaker-scikit-learn-2021-01-05-13-12-46-654/profiler-output/system/incremental/2021010515/1609859580.algo-1.json'},\n",
       "   {'Key': 'sagemaker-scikit-learn-2021-01-05-13-12-46-654/profiler-output/system/incremental/2021010513/1609852860.algo-1.json'},\n",
       "   {'Key': 'sagemaker-scikit-learn-2021-01-05-12-35-04-065/rule-output/ProfilerReport-1609850104/profiler-output/profiler-reports/Dataloader.json'},\n",
       "   {'Key': 'sagemaker-scikit-learn-2021-01-05-13-12-46-654/profiler-output/system/incremental/2021010513/1609854240.algo-1.json'},\n",
       "   {'Key': 'sagemaker-scikit-learn-2021-01-05-13-12-46-654/profiler-output/system/incremental/2021010513/1609853880.algo-1.json'},\n",
       "   {'Key': 'sagemaker-scikit-learn-2021-01-05-13-12-46-654/profiler-output/system/incremental/2021010514/1609857120.algo-1.json'},\n",
       "   {'Key': 'sagemaker-scikit-learn-2021-01-05-12-39-29-619/rule-output/ProfilerReport-1609850369/profiler-output/profiler-reports/CPUBottleneck.json'},\n",
       "   {'Key': 'sagemaker-scikit-learn-2021-01-05-13-12-46-654/profiler-output/system/incremental/2021010515/1609858920.algo-1.json'},\n",
       "   {'Key': 'sagemaker-scikit-learn-2021-01-05-13-12-46-654/profiler-output/system/incremental/2021010514/1609858740.algo-1.json'},\n",
       "   {'Key': 'sagemaker-scikit-learn-2021-01-05-12-19-26-029/source/sourcedir.tar.gz'},\n",
       "   {'Key': 'sagemaker-scikit-learn-2021-01-05-12-11-17-679/rule-output/ProfilerReport-1609848677/profiler-output/profiler-report.ipynb'},\n",
       "   {'Key': 'sagemaker-scikit-learn-2021-01-05-13-12-46-654/profiler-output/system/incremental/2021010513/1609853340.algo-1.json'},\n",
       "   {'Key': 'sagemaker-scikit-learn-2021-01-05-13-12-46-654/profiler-output/system/incremental/2021010513/1609854300.algo-1.json'},\n",
       "   {'Key': 'sagemaker-scikit-learn-2021-01-05-13-12-46-654/profiler-output/system/incremental/2021010515/1609859880.algo-1.json'},\n",
       "   {'Key': 'sagemaker-scikit-learn-2021-01-05-12-11-17-679/rule-output/ProfilerReport-1609848677/profiler-output/profiler-reports/IOBottleneck.json'},\n",
       "   {'Key': 'sagemaker-scikit-learn-2021-01-05-13-12-46-654/profiler-output/system/incremental/2021010513/1609854960.algo-1.json'},\n",
       "   {'Key': 'sagemaker-scikit-learn-2021-01-05-13-12-46-654/profiler-output/system/incremental/2021010513/1609852920.algo-1.json'},\n",
       "   {'Key': 'sagemaker-scikit-learn-2021-01-05-12-35-04-065/profiler-output/system/incremental/2021010512/1609850940.algo-1.json'},\n",
       "   {'Key': 'sagemaker-scikit-learn-2021-01-05-13-12-46-654/profiler-output/system/incremental/2021010514/1609858260.algo-1.json'},\n",
       "   {'Key': 'sagemaker-scikit-learn-2021-01-05-13-12-46-654/profiler-output/system/incremental/2021010513/1609853220.algo-1.json'},\n",
       "   {'Key': 'sagemaker-scikit-learn-2021-01-05-13-12-46-654/profiler-output/system/incremental/2021010515/1609859700.algo-1.json'},\n",
       "   {'Key': 'sagemaker-scikit-learn-2021-01-05-12-11-17-679/profiler-output/system/incremental/2021010512/1609848780.algo-1.json'},\n",
       "   {'Key': 'sagemaker-scikit-learn-2021-01-05-12-39-29-619/rule-output/ProfilerReport-1609850369/profiler-output/profiler-reports/LowGPUUtilization.json'},\n",
       "   {'Key': 'sagemaker-scikit-learn-2021-01-05-13-12-46-654/profiler-output/system/incremental/2021010514/1609856460.algo-1.json'},\n",
       "   {'Key': 'sagemaker-scikit-learn-2021-01-05-13-12-46-654/profiler-output/system/incremental/2021010514/1609857600.algo-1.json'},\n",
       "   {'Key': 'sagemaker-scikit-learn-2021-01-05-13-12-46-654/profiler-output/system/incremental/2021010515/1609860000.algo-1.json'},\n",
       "   {'Key': 'sagemaker-scikit-learn-2021-01-05-12-35-04-065/profiler-output/system/incremental/2021010512/1609850280.algo-1.json'},\n",
       "   {'Key': 'sagemaker-scikit-learn-2021-01-05-12-19-26-029/rule-output/ProfilerReport-1609849166/profiler-output/profiler-reports/MaxInitializationTime.json'},\n",
       "   {'Key': 'sagemaker-scikit-learn-2021-01-05-13-12-46-654/profiler-output/system/incremental/2021010513/1609855080.algo-1.json'},\n",
       "   {'Key': 'sagemaker-scikit-learn-2021-01-05-12-35-04-065/rule-output/ProfilerReport-1609850104/profiler-output/profiler-reports/OverallFrameworkMetrics.json'},\n",
       "   {'Key': 'sagemaker-scikit-learn-2021-01-05-13-12-46-654/profiler-output/system/incremental/2021010513/1609853460.algo-1.json'},\n",
       "   {'Key': 'sagemaker-scikit-learn-2021-01-05-13-12-46-654/profiler-output/system/incremental/2021010514/1609858320.algo-1.json'},\n",
       "   {'Key': 'sagemaker-scikit-learn-2021-01-05-12-35-04-065/profiler-output/system/incremental/2021010512/1609850640.algo-1.json'},\n",
       "   {'Key': 'sagemaker-scikit-learn-2021-01-05-13-12-46-654/rule-output/ProfilerReport-1609852366/profiler-output/profiler-report.ipynb'},\n",
       "   {'Key': 'sagemaker-scikit-learn-2021-01-05-13-12-46-654/profiler-output/system/incremental/2021010515/1609859100.algo-1.json'},\n",
       "   {'Key': 'sagemaker-scikit-learn-2021-01-05-13-12-46-654/profiler-output/system/incremental/2021010515/1609858800.algo-1.json'},\n",
       "   {'Key': 'sagemaker-scikit-learn-2021-01-05-13-12-46-654/source/sourcedir.tar.gz'},\n",
       "   {'Key': 'sagemaker-scikit-learn-2021-01-05-12-11-17-679/rule-output/ProfilerReport-1609848677/profiler-output/profiler-reports/LowGPUUtilization.json'},\n",
       "   {'Key': 'sagemaker-scikit-learn-2021-01-05-12-35-04-065/rule-output/ProfilerReport-1609850104/profiler-output/profiler-reports/MaxInitializationTime.json'},\n",
       "   {'Key': 'sagemaker-scikit-learn-2021-01-05-13-12-46-654/rule-output/ProfilerReport-1609852366/profiler-output/profiler-reports/MaxInitializationTime.json'},\n",
       "   {'Key': 'sagemaker-scikit-learn-2021-01-05-13-12-46-654/debug-output/training_job_end.ts'},\n",
       "   {'Key': 'sagemaker-scikit-learn-2021-01-05-13-12-46-654/profiler-output/system/incremental/2021010514/1609855740.algo-1.json'},\n",
       "   {'Key': 'sagemaker-scikit-learn-2021-01-05-12-11-17-679/rule-output/ProfilerReport-1609848677/profiler-output/profiler-reports/OverallFrameworkMetrics.json'},\n",
       "   {'Key': 'sagemaker-scikit-learn-2021-01-05-13-12-46-654/profiler-output/system/incremental/2021010513/1609854480.algo-1.json'},\n",
       "   {'Key': 'sagemaker-scikit-learn-2021-01-05-12-39-29-619/profiler-output/system/incremental/2021010512/1609850580.algo-1.json'},\n",
       "   {'Key': 'sagemaker-scikit-learn-2021-01-05-12-35-04-065/source/sourcedir.tar.gz'},\n",
       "   {'Key': 'sagemaker-scikit-learn-2021-01-05-12-39-29-619/output/model.tar.gz'},\n",
       "   {'Key': 'sagemaker-scikit-learn-2021-01-05-13-12-46-654/profiler-output/system/incremental/2021010513/1609852620.algo-1.json'},\n",
       "   {'Key': 'sagemaker-scikit-learn-2021-01-05-13-12-46-654/profiler-output/system/incremental/2021010513/1609852740.algo-1.json'},\n",
       "   {'Key': 'sagemaker-scikit-learn-2021-01-05-13-12-46-654/profiler-output/system/incremental/2021010515/1609858860.algo-1.json'},\n",
       "   {'Key': 'sagemaker-scikit-learn-2021-01-05-12-35-04-065/profiler-output/system/incremental/2021010512/1609850880.algo-1.json'},\n",
       "   {'Key': 'sagemaker-scikit-learn-2021-01-05-12-11-17-679/rule-output/ProfilerReport-1609848677/profiler-output/profiler-reports/GPUMemoryIncrease.json'},\n",
       "   {'Key': 'sagemaker-scikit-learn-2021-01-05-13-12-46-654/profiler-output/system/incremental/2021010514/1609857540.algo-1.json'},\n",
       "   {'Key': 'sagemaker-scikit-learn-2021-01-05-13-12-46-654/profiler-output/system/incremental/2021010513/1609853640.algo-1.json'},\n",
       "   {'Key': 'sagemaker-scikit-learn-2021-01-05-11-59-15-258/profiler-output/system/incremental/2021010512/1609848120.algo-1.json'},\n",
       "   {'Key': 'sagemaker-scikit-learn-2021-01-05-12-35-04-065/rule-output/ProfilerReport-1609850104/profiler-output/profiler-reports/IOBottleneck.json'},\n",
       "   {'Key': 'sagemaker-scikit-learn-2021-01-05-13-12-46-654/profiler-output/system/incremental/2021010514/1609856700.algo-1.json'},\n",
       "   {'Key': 'sagemaker-scikit-learn-2021-01-05-13-12-46-654/profiler-output/system/incremental/2021010515/1609860060.algo-1.json'},\n",
       "   {'Key': 'sagemaker-scikit-learn-2021-01-05-12-39-29-619/profiler-output/system/incremental/2021010512/1609850520.algo-1.json'},\n",
       "   {'Key': 'sagemaker-scikit-learn-2021-01-05-12-35-04-065/profiler-output/system/incremental/2021010512/1609850520.algo-1.json'},\n",
       "   {'Key': 'sagemaker-scikit-learn-2021-01-05-13-12-46-654/rule-output/ProfilerReport-1609852366/profiler-output/profiler-reports/OverallSystemUsage.json'},\n",
       "   {'Key': 'sagemaker-scikit-learn-2021-01-05-13-12-46-654/rule-output/ProfilerReport-1609852366/profiler-output/profiler-reports/OverallFrameworkMetrics.json'},\n",
       "   {'Key': 'sagemaker-scikit-learn-2021-01-05-13-07-15-523/profiler-output/system/incremental/2021010513/1609852140.algo-1.json'},\n",
       "   {'Key': 'sagemaker-scikit-learn-2021-01-05-13-12-46-654/profiler-output/system/incremental/2021010514/1609856040.algo-1.json'},\n",
       "   {'Key': 'sagemaker-scikit-learn-2021-01-05-13-12-46-654/rule-output/ProfilerReport-1609852366/profiler-output/profiler-reports/StepOutlier.json'},\n",
       "   {'Key': 'sagemaker-scikit-learn-2021-01-05-13-12-46-654/profiler-output/system/incremental/2021010514/1609858680.algo-1.json'},\n",
       "   {'Key': 'sagemaker-scikit-learn-2021-01-05-12-39-29-619/source/sourcedir.tar.gz'},\n",
       "   {'Key': 'sagemaker-scikit-learn-2021-01-05-13-12-46-654/profiler-output/system/incremental/2021010514/1609858080.algo-1.json'},\n",
       "   {'Key': 'sagemaker-scikit-learn-2021-01-05-13-12-46-654/profiler-output/system/incremental/2021010514/1609855500.algo-1.json'},\n",
       "   {'Key': 'sagemaker-scikit-learn-2021-01-05-13-12-46-654/profiler-output/system/incremental/2021010514/1609857000.algo-1.json'},\n",
       "   {'Key': 'sagemaker-scikit-learn-2021-01-05-12-19-26-029/rule-output/ProfilerReport-1609849166/profiler-output/profiler-reports/IOBottleneck.json'},\n",
       "   {'Key': 'sagemaker-scikit-learn-2021-01-05-13-12-46-654/profiler-output/system/incremental/2021010513/1609853940.algo-1.json'},\n",
       "   {'Key': 'sagemaker-scikit-learn-2021-01-05-13-12-46-654/profiler-output/system/incremental/2021010514/1609856580.algo-1.json'},\n",
       "   {'Key': 'sagemaker-scikit-learn-2021-01-05-13-12-46-654/profiler-output/system/incremental/2021010513/1609853040.algo-1.json'},\n",
       "   {'Key': 'sagemaker-scikit-learn-2021-01-05-13-12-46-654/profiler-output/system/incremental/2021010514/1609858620.algo-1.json'},\n",
       "   {'Key': 'sagemaker-scikit-learn-2021-01-05-12-35-04-065/profiler-output/system/incremental/2021010512/1609850820.algo-1.json'},\n",
       "   {'Key': 'sagemaker-scikit-learn-2021-01-05-13-12-46-654/profiler-output/framework/training_job_end.ts'},\n",
       "   {'Key': 'sagemaker-scikit-learn-2021-01-05-13-12-46-654/profiler-output/system/incremental/2021010514/1609857360.algo-1.json'},\n",
       "   {'Key': 'sagemaker-scikit-learn-2021-01-05-13-12-46-654/profiler-output/system/incremental/2021010514/1609857960.algo-1.json'},\n",
       "   {'Key': 'sagemaker-scikit-learn-2021-01-05-13-12-46-654/profiler-output/system/incremental/2021010514/1609858500.algo-1.json'},\n",
       "   {'Key': 'sagemaker-scikit-learn-2021-01-05-13-12-46-654/rule-output/ProfilerReport-1609852366/profiler-output/profiler-reports/IOBottleneck.json'},\n",
       "   {'Key': 'sagemaker-scikit-learn-2021-01-05-13-12-46-654/profiler-output/system/incremental/2021010514/1609855200.algo-1.json'},\n",
       "   {'Key': 'sagemaker-scikit-learn-2021-01-05-12-19-26-029/rule-output/ProfilerReport-1609849166/profiler-output/profiler-reports/Dataloader.json'},\n",
       "   {'Key': 'sagemaker-scikit-learn-2021-01-05-13-12-46-654/profiler-output/system/incremental/2021010513/1609854600.algo-1.json'},\n",
       "   {'Key': 'sagemaker-scikit-learn-2021-01-05-13-12-46-654/profiler-output/system/incremental/2021010513/1609853580.algo-1.json'},\n",
       "   {'Key': 'sagemaker-scikit-learn-2021-01-05-13-12-46-654/profiler-output/system/incremental/2021010513/1609853520.algo-1.json'},\n",
       "   {'Key': 'sagemaker-scikit-learn-2021-01-05-12-19-26-029/profiler-output/system/incremental/2021010512/1609849260.algo-1.json'},\n",
       "   {'Key': 'sagemaker-scikit-learn-2021-01-05-12-39-29-619/rule-output/ProfilerReport-1609850369/profiler-output/profiler-reports/GPUMemoryIncrease.json'},\n",
       "   {'Key': 'sagemaker-scikit-learn-2021-01-05-12-19-26-029/rule-output/ProfilerReport-1609849166/profiler-output/profiler-report.ipynb'},\n",
       "   {'Key': 'sagemaker-scikit-learn-2021-01-05-13-12-46-654/profiler-output/system/incremental/2021010513/1609855140.algo-1.json'},\n",
       "   {'Key': 'sagemaker-scikit-learn-2021-01-05-13-12-46-654/profiler-output/system/incremental/2021010514/1609857660.algo-1.json'},\n",
       "   {'Key': 'sagemaker-scikit-learn-2021-01-05-12-35-04-065/profiler-output/system/incremental/2021010512/1609850700.algo-1.json'},\n",
       "   {'Key': 'sagemaker-scikit-learn-2021-01-05-13-12-46-654/profiler-output/system/incremental/2021010514/1609857780.algo-1.json'},\n",
       "   {'Key': 'sagemaker-scikit-learn-2021-01-05-13-12-46-654/rule-output/ProfilerReport-1609852366/profiler-output/profiler-reports/BatchSize.json'},\n",
       "   {'Key': 'sagemaker-scikit-learn-2021-01-05-13-12-46-654/profiler-output/system/incremental/2021010515/1609859520.algo-1.json'},\n",
       "   {'Key': 'sagemaker-scikit-learn-2021-01-05-13-12-46-654/profiler-output/system/incremental/2021010515/1609860180.algo-1.json'},\n",
       "   {'Key': 'sagemaker-scikit-learn-2021-01-05-13-12-46-654/profiler-output/system/incremental/2021010514/1609856820.algo-1.json'},\n",
       "   {'Key': 'sagemaker-scikit-learn-2021-01-05-13-12-46-654/profiler-output/system/incremental/2021010514/1609855320.algo-1.json'},\n",
       "   {'Key': 'sagemaker-scikit-learn-2021-01-05-13-12-46-654/profiler-output/system/training_job_end.ts'},\n",
       "   {'Key': 'sagemaker-scikit-learn-2021-01-05-13-12-46-654/profiler-output/system/incremental/2021010515/1609859400.algo-1.json'},\n",
       "   {'Key': 'sagemaker-scikit-learn-2021-01-05-12-35-04-065/rule-output/ProfilerReport-1609850104/profiler-output/profiler-reports/StepOutlier.json'},\n",
       "   {'Key': 'sagemaker-scikit-learn-2021-01-05-13-12-46-654/profiler-output/system/incremental/2021010514/1609855680.algo-1.json'},\n",
       "   {'Key': 'sagemaker-scikit-learn-2021-01-05-12-19-26-029/rule-output/ProfilerReport-1609849166/profiler-output/profiler-reports/LoadBalancing.json'},\n",
       "   {'Key': 'sagemaker-scikit-learn-2021-01-05-13-12-46-654/profiler-output/system/incremental/2021010513/1609853160.algo-1.json'},\n",
       "   {'Key': 'sagemaker-scikit-learn-2021-01-05-12-39-29-619/rule-output/ProfilerReport-1609850369/profiler-output/profiler-reports/MaxInitializationTime.json'},\n",
       "   {'Key': 'sagemaker-scikit-learn-2021-01-05-13-12-46-654/profiler-output/system/incremental/2021010514/1609855860.algo-1.json'},\n",
       "   {'Key': 'sagemaker-scikit-learn-2021-01-05-12-19-26-029/rule-output/ProfilerReport-1609849166/profiler-output/profiler-reports/CPUBottleneck.json'},\n",
       "   {'Key': 'sagemaker-scikit-learn-2021-01-05-12-39-29-619/rule-output/ProfilerReport-1609850369/profiler-output/profiler-reports/Dataloader.json'},\n",
       "   {'Key': 'sagemaker-scikit-learn-2021-01-05-13-12-46-654/rule-output/ProfilerReport-1609852366/profiler-output/profiler-reports/LoadBalancing.json'},\n",
       "   {'Key': 'sagemaker-scikit-learn-2021-01-05-13-12-46-654/profiler-output/system/incremental/2021010514/1609856940.algo-1.json'},\n",
       "   {'Key': 'sagemaker-scikit-learn-2021-01-05-12-35-04-065/rule-output/ProfilerReport-1609850104/profiler-output/profiler-reports/GPUMemoryIncrease.json'},\n",
       "   {'Key': 'sagemaker-scikit-learn-2021-01-05-13-12-46-654/profiler-output/system/incremental/2021010513/1609853400.algo-1.json'},\n",
       "   {'Key': 'sagemaker-scikit-learn-2021-01-05-13-12-46-654/profiler-output/system/incremental/2021010514/1609856400.algo-1.json'},\n",
       "   {'Key': 'sagemaker-scikit-learn-2021-01-05-13-12-46-654/profiler-output/system/incremental/2021010514/1609855380.algo-1.json'},\n",
       "   {'Key': 'sagemaker-scikit-learn-2021-01-05-12-39-29-619/profiler-output/system/training_job_end.ts'},\n",
       "   {'Key': 'sagemaker-scikit-learn-2021-01-05-13-12-46-654/profiler-output/system/incremental/2021010515/1609859280.algo-1.json'},\n",
       "   {'Key': 'sagemaker-scikit-learn-2021-01-05-12-11-17-679/rule-output/ProfilerReport-1609848677/profiler-output/profiler-reports/LoadBalancing.json'},\n",
       "   {'Key': 'sagemaker-scikit-learn-2021-01-05-12-35-04-065/profiler-output/system/incremental/2021010512/1609850580.algo-1.json'},\n",
       "   {'Key': 'sagemaker-scikit-learn-2021-01-05-12-11-17-679/source/sourcedir.tar.gz'},\n",
       "   {'Key': 'sagemaker-scikit-learn-2021-01-05-13-12-46-654/profiler-output/system/incremental/2021010514/1609856760.algo-1.json'}]}]"
      ]
     },
     "execution_count": 39,
     "metadata": {},
     "output_type": "execute_result"
    }
   ],
   "source": [
    "bucket_to_delete = boto3.resource('s3').Bucket(bucket)\n",
    "bucket_to_delete.objects.all().delete()"
   ]
  },
  {
   "cell_type": "code",
   "execution_count": null,
   "metadata": {},
   "outputs": [],
   "source": []
  }
 ],
 "metadata": {
  "kernelspec": {
   "display_name": "conda_amazonei_mxnet_p36",
   "language": "python",
   "name": "conda_amazonei_mxnet_p36"
  },
  "language_info": {
   "codemirror_mode": {
    "name": "ipython",
    "version": 3
   },
   "file_extension": ".py",
   "mimetype": "text/x-python",
   "name": "python",
   "nbconvert_exporter": "python",
   "pygments_lexer": "ipython3",
   "version": "3.6.10"
  }
 },
 "nbformat": 4,
 "nbformat_minor": 4
}
